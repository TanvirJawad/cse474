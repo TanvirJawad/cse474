{
  "nbformat": 4,
  "nbformat_minor": 0,
  "metadata": {
    "colab": {
      "provenance": []
    },
    "kernelspec": {
      "name": "python3",
      "display_name": "Python 3"
    },
    "language_info": {
      "name": "python"
    }
  },
  "cells": [
    {
      "cell_type": "markdown",
      "source": [
        "Md. Tanvir Jawad<br>ID: 21101221"
      ],
      "metadata": {
        "id": "VltXYTn4kO5m"
      }
    },
    {
      "cell_type": "code",
      "execution_count": 1,
      "metadata": {
        "colab": {
          "base_uri": "https://localhost:8080/"
        },
        "id": "ivAWGKqTkOYR",
        "outputId": "64dbb1b7-920a-42fe-a31b-0f595efa2dfa"
      },
      "outputs": [
        {
          "output_type": "stream",
          "name": "stdout",
          "text": [
            "Downloaded modsim.py\n"
          ]
        }
      ],
      "source": [
        "from os.path import basename, exists\n",
        "\n",
        "def download(url):\n",
        "    filename = basename(url)\n",
        "    if not exists(filename):\n",
        "        from urllib.request import urlretrieve\n",
        "        local, _ = urlretrieve(url, filename)\n",
        "        print('Downloaded ' + local)\n",
        "\n",
        "download('https://raw.githubusercontent.com/AllenDowney/' +\n",
        "         'ModSimPy/master/modsim.py')"
      ]
    },
    {
      "cell_type": "code",
      "source": [
        "from modsim import *"
      ],
      "metadata": {
        "id": "W-mk29WMkcum"
      },
      "execution_count": 2,
      "outputs": []
    },
    {
      "cell_type": "code",
      "source": [
        "from numpy import pi\n",
        "\n",
        "radius_disk = 0.5\n",
        "mass_disk = 7\n",
        "radius_pot = 0.4\n",
        "mass_pot = 0.3\n",
        "force = 2\n",
        "\n",
        "theta_push = 0.5\n",
        "theta_test = 1.5\n",
        "theta_target = pi"
      ],
      "metadata": {
        "id": "KTfJs5gXkgP_"
      },
      "execution_count": 3,
      "outputs": []
    },
    {
      "cell_type": "code",
      "source": [
        "I_disk = mass_disk * radius_disk**2 / 2"
      ],
      "metadata": {
        "id": "YulUiTK9khdV"
      },
      "execution_count": 4,
      "outputs": []
    },
    {
      "cell_type": "code",
      "source": [
        "I_pot = mass_pot * radius_pot**2"
      ],
      "metadata": {
        "id": "f4SBFh6_kiMt"
      },
      "execution_count": 5,
      "outputs": []
    },
    {
      "cell_type": "code",
      "source": [
        "I_total = I_disk + I_pot"
      ],
      "metadata": {
        "id": "ydbOwRPSki2u"
      },
      "execution_count": 6,
      "outputs": []
    },
    {
      "cell_type": "code",
      "source": [
        "torque_friction = 0.3"
      ],
      "metadata": {
        "id": "_RzFTS-Rkj1N"
      },
      "execution_count": 7,
      "outputs": []
    },
    {
      "cell_type": "code",
      "source": [
        "init = State(theta=0, omega=0)"
      ],
      "metadata": {
        "id": "u_vuLWCikkpl"
      },
      "execution_count": 8,
      "outputs": []
    },
    {
      "cell_type": "code",
      "source": [
        "system = System(init=init,\n",
        "                force=force,\n",
        "                torque_friction=torque_friction,\n",
        "                t_end=20)"
      ],
      "metadata": {
        "id": "nK5LeJEAklvk"
      },
      "execution_count": 9,
      "outputs": []
    },
    {
      "cell_type": "code",
      "source": [
        "def slope_func(t, state, system):\n",
        "    theta, omega = state\n",
        "    force = system.force\n",
        "    torque_friction = system.torque_friction\n",
        "\n",
        "    torque = radius_disk * force - torque_friction\n",
        "    alpha = torque / I_total\n",
        "\n",
        "    return omega, alpha"
      ],
      "metadata": {
        "id": "Z-dyJI9Ykmc1"
      },
      "execution_count": 10,
      "outputs": []
    },
    {
      "cell_type": "code",
      "source": [
        "slope_func(0, system.init, system)"
      ],
      "metadata": {
        "colab": {
          "base_uri": "https://localhost:8080/"
        },
        "id": "q7WMge68kp5d",
        "outputId": "ba534cdb-137d-473d-b6f5-49d9220c0fab"
      },
      "execution_count": 11,
      "outputs": [
        {
          "output_type": "execute_result",
          "data": {
            "text/plain": [
              "(0, 0.7583965330444203)"
            ]
          },
          "metadata": {},
          "execution_count": 11
        }
      ]
    },
    {
      "cell_type": "code",
      "source": [
        "def event_func1(t, state, system):\n",
        "    theta, omega = state\n",
        "    return theta - theta_push"
      ],
      "metadata": {
        "id": "wVAmxqyKlVDD"
      },
      "execution_count": 12,
      "outputs": []
    },
    {
      "cell_type": "code",
      "source": [
        "event_func1(0, system.init, system)"
      ],
      "metadata": {
        "colab": {
          "base_uri": "https://localhost:8080/"
        },
        "id": "nblHoOawlV51",
        "outputId": "e3c40701-e652-4e1a-dbbc-1249e117ffd8"
      },
      "execution_count": 13,
      "outputs": [
        {
          "output_type": "execute_result",
          "data": {
            "text/plain": [
              "-0.5"
            ]
          },
          "metadata": {},
          "execution_count": 13
        }
      ]
    },
    {
      "cell_type": "code",
      "source": [
        "results1, details1 = run_solve_ivp(system, slope_func,\n",
        "                                   events=event_func1)\n",
        "details1.message"
      ],
      "metadata": {
        "colab": {
          "base_uri": "https://localhost:8080/",
          "height": 36
        },
        "id": "aKXsXOielW-n",
        "outputId": "1b688318-2cda-40bd-df74-3e9a4eda7058"
      },
      "execution_count": 14,
      "outputs": [
        {
          "output_type": "execute_result",
          "data": {
            "text/plain": [
              "'A termination event occurred.'"
            ],
            "application/vnd.google.colaboratory.intrinsic+json": {
              "type": "string"
            }
          },
          "metadata": {},
          "execution_count": 14
        }
      ]
    },
    {
      "cell_type": "code",
      "source": [
        "results1.tail()"
      ],
      "metadata": {
        "colab": {
          "base_uri": "https://localhost:8080/",
          "height": 206
        },
        "id": "Mc0YkAvtlX2m",
        "outputId": "04977c56-b441-455f-d47a-29d3f98f5dab"
      },
      "execution_count": 15,
      "outputs": [
        {
          "output_type": "execute_result",
          "data": {
            "text/plain": [
              "            theta     omega\n",
              "1.102359  0.46080  0.836025\n",
              "1.113842  0.47045  0.844734\n",
              "1.125325  0.48020  0.853442\n",
              "1.136808  0.49005  0.862151\n",
              "1.148291  0.50000  0.870860"
            ],
            "text/html": [
              "\n",
              "  <div id=\"df-4cfacdc8-eec3-4f6a-a123-9c47b18dd777\" class=\"colab-df-container\">\n",
              "    <div>\n",
              "<style scoped>\n",
              "    .dataframe tbody tr th:only-of-type {\n",
              "        vertical-align: middle;\n",
              "    }\n",
              "\n",
              "    .dataframe tbody tr th {\n",
              "        vertical-align: top;\n",
              "    }\n",
              "\n",
              "    .dataframe thead th {\n",
              "        text-align: right;\n",
              "    }\n",
              "</style>\n",
              "<table border=\"1\" class=\"dataframe\">\n",
              "  <thead>\n",
              "    <tr style=\"text-align: right;\">\n",
              "      <th></th>\n",
              "      <th>theta</th>\n",
              "      <th>omega</th>\n",
              "    </tr>\n",
              "  </thead>\n",
              "  <tbody>\n",
              "    <tr>\n",
              "      <th>1.102359</th>\n",
              "      <td>0.46080</td>\n",
              "      <td>0.836025</td>\n",
              "    </tr>\n",
              "    <tr>\n",
              "      <th>1.113842</th>\n",
              "      <td>0.47045</td>\n",
              "      <td>0.844734</td>\n",
              "    </tr>\n",
              "    <tr>\n",
              "      <th>1.125325</th>\n",
              "      <td>0.48020</td>\n",
              "      <td>0.853442</td>\n",
              "    </tr>\n",
              "    <tr>\n",
              "      <th>1.136808</th>\n",
              "      <td>0.49005</td>\n",
              "      <td>0.862151</td>\n",
              "    </tr>\n",
              "    <tr>\n",
              "      <th>1.148291</th>\n",
              "      <td>0.50000</td>\n",
              "      <td>0.870860</td>\n",
              "    </tr>\n",
              "  </tbody>\n",
              "</table>\n",
              "</div>\n",
              "    <div class=\"colab-df-buttons\">\n",
              "\n",
              "  <div class=\"colab-df-container\">\n",
              "    <button class=\"colab-df-convert\" onclick=\"convertToInteractive('df-4cfacdc8-eec3-4f6a-a123-9c47b18dd777')\"\n",
              "            title=\"Convert this dataframe to an interactive table.\"\n",
              "            style=\"display:none;\">\n",
              "\n",
              "  <svg xmlns=\"http://www.w3.org/2000/svg\" height=\"24px\" viewBox=\"0 -960 960 960\">\n",
              "    <path d=\"M120-120v-720h720v720H120Zm60-500h600v-160H180v160Zm220 220h160v-160H400v160Zm0 220h160v-160H400v160ZM180-400h160v-160H180v160Zm440 0h160v-160H620v160ZM180-180h160v-160H180v160Zm440 0h160v-160H620v160Z\"/>\n",
              "  </svg>\n",
              "    </button>\n",
              "\n",
              "  <style>\n",
              "    .colab-df-container {\n",
              "      display:flex;\n",
              "      gap: 12px;\n",
              "    }\n",
              "\n",
              "    .colab-df-convert {\n",
              "      background-color: #E8F0FE;\n",
              "      border: none;\n",
              "      border-radius: 50%;\n",
              "      cursor: pointer;\n",
              "      display: none;\n",
              "      fill: #1967D2;\n",
              "      height: 32px;\n",
              "      padding: 0 0 0 0;\n",
              "      width: 32px;\n",
              "    }\n",
              "\n",
              "    .colab-df-convert:hover {\n",
              "      background-color: #E2EBFA;\n",
              "      box-shadow: 0px 1px 2px rgba(60, 64, 67, 0.3), 0px 1px 3px 1px rgba(60, 64, 67, 0.15);\n",
              "      fill: #174EA6;\n",
              "    }\n",
              "\n",
              "    .colab-df-buttons div {\n",
              "      margin-bottom: 4px;\n",
              "    }\n",
              "\n",
              "    [theme=dark] .colab-df-convert {\n",
              "      background-color: #3B4455;\n",
              "      fill: #D2E3FC;\n",
              "    }\n",
              "\n",
              "    [theme=dark] .colab-df-convert:hover {\n",
              "      background-color: #434B5C;\n",
              "      box-shadow: 0px 1px 3px 1px rgba(0, 0, 0, 0.15);\n",
              "      filter: drop-shadow(0px 1px 2px rgba(0, 0, 0, 0.3));\n",
              "      fill: #FFFFFF;\n",
              "    }\n",
              "  </style>\n",
              "\n",
              "    <script>\n",
              "      const buttonEl =\n",
              "        document.querySelector('#df-4cfacdc8-eec3-4f6a-a123-9c47b18dd777 button.colab-df-convert');\n",
              "      buttonEl.style.display =\n",
              "        google.colab.kernel.accessAllowed ? 'block' : 'none';\n",
              "\n",
              "      async function convertToInteractive(key) {\n",
              "        const element = document.querySelector('#df-4cfacdc8-eec3-4f6a-a123-9c47b18dd777');\n",
              "        const dataTable =\n",
              "          await google.colab.kernel.invokeFunction('convertToInteractive',\n",
              "                                                    [key], {});\n",
              "        if (!dataTable) return;\n",
              "\n",
              "        const docLinkHtml = 'Like what you see? Visit the ' +\n",
              "          '<a target=\"_blank\" href=https://colab.research.google.com/notebooks/data_table.ipynb>data table notebook</a>'\n",
              "          + ' to learn more about interactive tables.';\n",
              "        element.innerHTML = '';\n",
              "        dataTable['output_type'] = 'display_data';\n",
              "        await google.colab.output.renderOutput(dataTable, element);\n",
              "        const docLink = document.createElement('div');\n",
              "        docLink.innerHTML = docLinkHtml;\n",
              "        element.appendChild(docLink);\n",
              "      }\n",
              "    </script>\n",
              "  </div>\n",
              "\n",
              "\n",
              "<div id=\"df-efe2af43-f937-4dae-9907-7f7623f86415\">\n",
              "  <button class=\"colab-df-quickchart\" onclick=\"quickchart('df-efe2af43-f937-4dae-9907-7f7623f86415')\"\n",
              "            title=\"Suggest charts\"\n",
              "            style=\"display:none;\">\n",
              "\n",
              "<svg xmlns=\"http://www.w3.org/2000/svg\" height=\"24px\"viewBox=\"0 0 24 24\"\n",
              "     width=\"24px\">\n",
              "    <g>\n",
              "        <path d=\"M19 3H5c-1.1 0-2 .9-2 2v14c0 1.1.9 2 2 2h14c1.1 0 2-.9 2-2V5c0-1.1-.9-2-2-2zM9 17H7v-7h2v7zm4 0h-2V7h2v10zm4 0h-2v-4h2v4z\"/>\n",
              "    </g>\n",
              "</svg>\n",
              "  </button>\n",
              "\n",
              "<style>\n",
              "  .colab-df-quickchart {\n",
              "      --bg-color: #E8F0FE;\n",
              "      --fill-color: #1967D2;\n",
              "      --hover-bg-color: #E2EBFA;\n",
              "      --hover-fill-color: #174EA6;\n",
              "      --disabled-fill-color: #AAA;\n",
              "      --disabled-bg-color: #DDD;\n",
              "  }\n",
              "\n",
              "  [theme=dark] .colab-df-quickchart {\n",
              "      --bg-color: #3B4455;\n",
              "      --fill-color: #D2E3FC;\n",
              "      --hover-bg-color: #434B5C;\n",
              "      --hover-fill-color: #FFFFFF;\n",
              "      --disabled-bg-color: #3B4455;\n",
              "      --disabled-fill-color: #666;\n",
              "  }\n",
              "\n",
              "  .colab-df-quickchart {\n",
              "    background-color: var(--bg-color);\n",
              "    border: none;\n",
              "    border-radius: 50%;\n",
              "    cursor: pointer;\n",
              "    display: none;\n",
              "    fill: var(--fill-color);\n",
              "    height: 32px;\n",
              "    padding: 0;\n",
              "    width: 32px;\n",
              "  }\n",
              "\n",
              "  .colab-df-quickchart:hover {\n",
              "    background-color: var(--hover-bg-color);\n",
              "    box-shadow: 0 1px 2px rgba(60, 64, 67, 0.3), 0 1px 3px 1px rgba(60, 64, 67, 0.15);\n",
              "    fill: var(--button-hover-fill-color);\n",
              "  }\n",
              "\n",
              "  .colab-df-quickchart-complete:disabled,\n",
              "  .colab-df-quickchart-complete:disabled:hover {\n",
              "    background-color: var(--disabled-bg-color);\n",
              "    fill: var(--disabled-fill-color);\n",
              "    box-shadow: none;\n",
              "  }\n",
              "\n",
              "  .colab-df-spinner {\n",
              "    border: 2px solid var(--fill-color);\n",
              "    border-color: transparent;\n",
              "    border-bottom-color: var(--fill-color);\n",
              "    animation:\n",
              "      spin 1s steps(1) infinite;\n",
              "  }\n",
              "\n",
              "  @keyframes spin {\n",
              "    0% {\n",
              "      border-color: transparent;\n",
              "      border-bottom-color: var(--fill-color);\n",
              "      border-left-color: var(--fill-color);\n",
              "    }\n",
              "    20% {\n",
              "      border-color: transparent;\n",
              "      border-left-color: var(--fill-color);\n",
              "      border-top-color: var(--fill-color);\n",
              "    }\n",
              "    30% {\n",
              "      border-color: transparent;\n",
              "      border-left-color: var(--fill-color);\n",
              "      border-top-color: var(--fill-color);\n",
              "      border-right-color: var(--fill-color);\n",
              "    }\n",
              "    40% {\n",
              "      border-color: transparent;\n",
              "      border-right-color: var(--fill-color);\n",
              "      border-top-color: var(--fill-color);\n",
              "    }\n",
              "    60% {\n",
              "      border-color: transparent;\n",
              "      border-right-color: var(--fill-color);\n",
              "    }\n",
              "    80% {\n",
              "      border-color: transparent;\n",
              "      border-right-color: var(--fill-color);\n",
              "      border-bottom-color: var(--fill-color);\n",
              "    }\n",
              "    90% {\n",
              "      border-color: transparent;\n",
              "      border-bottom-color: var(--fill-color);\n",
              "    }\n",
              "  }\n",
              "</style>\n",
              "\n",
              "  <script>\n",
              "    async function quickchart(key) {\n",
              "      const quickchartButtonEl =\n",
              "        document.querySelector('#' + key + ' button');\n",
              "      quickchartButtonEl.disabled = true;  // To prevent multiple clicks.\n",
              "      quickchartButtonEl.classList.add('colab-df-spinner');\n",
              "      try {\n",
              "        const charts = await google.colab.kernel.invokeFunction(\n",
              "            'suggestCharts', [key], {});\n",
              "      } catch (error) {\n",
              "        console.error('Error during call to suggestCharts:', error);\n",
              "      }\n",
              "      quickchartButtonEl.classList.remove('colab-df-spinner');\n",
              "      quickchartButtonEl.classList.add('colab-df-quickchart-complete');\n",
              "    }\n",
              "    (() => {\n",
              "      let quickchartButtonEl =\n",
              "        document.querySelector('#df-efe2af43-f937-4dae-9907-7f7623f86415 button');\n",
              "      quickchartButtonEl.style.display =\n",
              "        google.colab.kernel.accessAllowed ? 'block' : 'none';\n",
              "    })();\n",
              "  </script>\n",
              "</div>\n",
              "    </div>\n",
              "  </div>\n"
            ]
          },
          "metadata": {},
          "execution_count": 15
        }
      ]
    },
    {
      "cell_type": "code",
      "source": [
        "t_2 = results1.index[-1]\n",
        "init2 = results1.iloc[-1]"
      ],
      "metadata": {
        "id": "d3nMjz-6lY1d"
      },
      "execution_count": 16,
      "outputs": []
    },
    {
      "cell_type": "code",
      "source": [
        "system2 = system.set(t_0=t_2, init=init2, force=0)"
      ],
      "metadata": {
        "id": "X29imQ9UlZ02"
      },
      "execution_count": 17,
      "outputs": []
    },
    {
      "cell_type": "code",
      "source": [
        "def event_func2(t, state, system):\n",
        "    theta, omega = state\n",
        "    return omega"
      ],
      "metadata": {
        "id": "C0sw8mealaym"
      },
      "execution_count": 18,
      "outputs": []
    },
    {
      "cell_type": "code",
      "source": [
        "event_func2(system2.t_0, system2.init, system2)"
      ],
      "metadata": {
        "colab": {
          "base_uri": "https://localhost:8080/"
        },
        "id": "Hz4aya15lbpR",
        "outputId": "53fe9236-72c3-4439-ce1d-b7f7e24a0af0"
      },
      "execution_count": 19,
      "outputs": [
        {
          "output_type": "execute_result",
          "data": {
            "text/plain": [
              "0.8708596517490182"
            ]
          },
          "metadata": {},
          "execution_count": 19
        }
      ]
    },
    {
      "cell_type": "code",
      "source": [
        "results2, details2 = run_solve_ivp(system2, slope_func,\n",
        "                                   events=event_func2)\n",
        "details2.message"
      ],
      "metadata": {
        "colab": {
          "base_uri": "https://localhost:8080/",
          "height": 36
        },
        "id": "2yXnEXkHldIF",
        "outputId": "7ba834cd-35ea-4def-ec6d-0f4ef4907294"
      },
      "execution_count": 20,
      "outputs": [
        {
          "output_type": "execute_result",
          "data": {
            "text/plain": [
              "'A termination event occurred.'"
            ],
            "application/vnd.google.colaboratory.intrinsic+json": {
              "type": "string"
            }
          },
          "metadata": {},
          "execution_count": 20
        }
      ]
    },
    {
      "cell_type": "code",
      "source": [
        "results = pd.concat([results1, results2])"
      ],
      "metadata": {
        "id": "X9SRItAgleXh"
      },
      "execution_count": 21,
      "outputs": []
    },
    {
      "cell_type": "code",
      "source": [
        "results.tail()"
      ],
      "metadata": {
        "colab": {
          "base_uri": "https://localhost:8080/",
          "height": 206
        },
        "id": "WqZAcvvBlfNe",
        "outputId": "b31262d8-ad46-47b8-9620-236be8c72b8c"
      },
      "execution_count": 22,
      "outputs": [
        {
          "output_type": "execute_result",
          "data": {
            "text/plain": [
              "             theta         omega\n",
              "3.720462  1.664800  3.483439e-02\n",
              "3.747255  1.665617  2.612579e-02\n",
              "3.774049  1.666200  1.741719e-02\n",
              "3.800842  1.666550  8.708597e-03\n",
              "3.827636  1.666667 -2.220446e-16"
            ],
            "text/html": [
              "\n",
              "  <div id=\"df-b91a06ff-cca9-4f50-bc9e-64c36f1c40d9\" class=\"colab-df-container\">\n",
              "    <div>\n",
              "<style scoped>\n",
              "    .dataframe tbody tr th:only-of-type {\n",
              "        vertical-align: middle;\n",
              "    }\n",
              "\n",
              "    .dataframe tbody tr th {\n",
              "        vertical-align: top;\n",
              "    }\n",
              "\n",
              "    .dataframe thead th {\n",
              "        text-align: right;\n",
              "    }\n",
              "</style>\n",
              "<table border=\"1\" class=\"dataframe\">\n",
              "  <thead>\n",
              "    <tr style=\"text-align: right;\">\n",
              "      <th></th>\n",
              "      <th>theta</th>\n",
              "      <th>omega</th>\n",
              "    </tr>\n",
              "  </thead>\n",
              "  <tbody>\n",
              "    <tr>\n",
              "      <th>3.720462</th>\n",
              "      <td>1.664800</td>\n",
              "      <td>3.483439e-02</td>\n",
              "    </tr>\n",
              "    <tr>\n",
              "      <th>3.747255</th>\n",
              "      <td>1.665617</td>\n",
              "      <td>2.612579e-02</td>\n",
              "    </tr>\n",
              "    <tr>\n",
              "      <th>3.774049</th>\n",
              "      <td>1.666200</td>\n",
              "      <td>1.741719e-02</td>\n",
              "    </tr>\n",
              "    <tr>\n",
              "      <th>3.800842</th>\n",
              "      <td>1.666550</td>\n",
              "      <td>8.708597e-03</td>\n",
              "    </tr>\n",
              "    <tr>\n",
              "      <th>3.827636</th>\n",
              "      <td>1.666667</td>\n",
              "      <td>-2.220446e-16</td>\n",
              "    </tr>\n",
              "  </tbody>\n",
              "</table>\n",
              "</div>\n",
              "    <div class=\"colab-df-buttons\">\n",
              "\n",
              "  <div class=\"colab-df-container\">\n",
              "    <button class=\"colab-df-convert\" onclick=\"convertToInteractive('df-b91a06ff-cca9-4f50-bc9e-64c36f1c40d9')\"\n",
              "            title=\"Convert this dataframe to an interactive table.\"\n",
              "            style=\"display:none;\">\n",
              "\n",
              "  <svg xmlns=\"http://www.w3.org/2000/svg\" height=\"24px\" viewBox=\"0 -960 960 960\">\n",
              "    <path d=\"M120-120v-720h720v720H120Zm60-500h600v-160H180v160Zm220 220h160v-160H400v160Zm0 220h160v-160H400v160ZM180-400h160v-160H180v160Zm440 0h160v-160H620v160ZM180-180h160v-160H180v160Zm440 0h160v-160H620v160Z\"/>\n",
              "  </svg>\n",
              "    </button>\n",
              "\n",
              "  <style>\n",
              "    .colab-df-container {\n",
              "      display:flex;\n",
              "      gap: 12px;\n",
              "    }\n",
              "\n",
              "    .colab-df-convert {\n",
              "      background-color: #E8F0FE;\n",
              "      border: none;\n",
              "      border-radius: 50%;\n",
              "      cursor: pointer;\n",
              "      display: none;\n",
              "      fill: #1967D2;\n",
              "      height: 32px;\n",
              "      padding: 0 0 0 0;\n",
              "      width: 32px;\n",
              "    }\n",
              "\n",
              "    .colab-df-convert:hover {\n",
              "      background-color: #E2EBFA;\n",
              "      box-shadow: 0px 1px 2px rgba(60, 64, 67, 0.3), 0px 1px 3px 1px rgba(60, 64, 67, 0.15);\n",
              "      fill: #174EA6;\n",
              "    }\n",
              "\n",
              "    .colab-df-buttons div {\n",
              "      margin-bottom: 4px;\n",
              "    }\n",
              "\n",
              "    [theme=dark] .colab-df-convert {\n",
              "      background-color: #3B4455;\n",
              "      fill: #D2E3FC;\n",
              "    }\n",
              "\n",
              "    [theme=dark] .colab-df-convert:hover {\n",
              "      background-color: #434B5C;\n",
              "      box-shadow: 0px 1px 3px 1px rgba(0, 0, 0, 0.15);\n",
              "      filter: drop-shadow(0px 1px 2px rgba(0, 0, 0, 0.3));\n",
              "      fill: #FFFFFF;\n",
              "    }\n",
              "  </style>\n",
              "\n",
              "    <script>\n",
              "      const buttonEl =\n",
              "        document.querySelector('#df-b91a06ff-cca9-4f50-bc9e-64c36f1c40d9 button.colab-df-convert');\n",
              "      buttonEl.style.display =\n",
              "        google.colab.kernel.accessAllowed ? 'block' : 'none';\n",
              "\n",
              "      async function convertToInteractive(key) {\n",
              "        const element = document.querySelector('#df-b91a06ff-cca9-4f50-bc9e-64c36f1c40d9');\n",
              "        const dataTable =\n",
              "          await google.colab.kernel.invokeFunction('convertToInteractive',\n",
              "                                                    [key], {});\n",
              "        if (!dataTable) return;\n",
              "\n",
              "        const docLinkHtml = 'Like what you see? Visit the ' +\n",
              "          '<a target=\"_blank\" href=https://colab.research.google.com/notebooks/data_table.ipynb>data table notebook</a>'\n",
              "          + ' to learn more about interactive tables.';\n",
              "        element.innerHTML = '';\n",
              "        dataTable['output_type'] = 'display_data';\n",
              "        await google.colab.output.renderOutput(dataTable, element);\n",
              "        const docLink = document.createElement('div');\n",
              "        docLink.innerHTML = docLinkHtml;\n",
              "        element.appendChild(docLink);\n",
              "      }\n",
              "    </script>\n",
              "  </div>\n",
              "\n",
              "\n",
              "<div id=\"df-dc417006-fdd1-4289-93dc-7d31c9b7af5b\">\n",
              "  <button class=\"colab-df-quickchart\" onclick=\"quickchart('df-dc417006-fdd1-4289-93dc-7d31c9b7af5b')\"\n",
              "            title=\"Suggest charts\"\n",
              "            style=\"display:none;\">\n",
              "\n",
              "<svg xmlns=\"http://www.w3.org/2000/svg\" height=\"24px\"viewBox=\"0 0 24 24\"\n",
              "     width=\"24px\">\n",
              "    <g>\n",
              "        <path d=\"M19 3H5c-1.1 0-2 .9-2 2v14c0 1.1.9 2 2 2h14c1.1 0 2-.9 2-2V5c0-1.1-.9-2-2-2zM9 17H7v-7h2v7zm4 0h-2V7h2v10zm4 0h-2v-4h2v4z\"/>\n",
              "    </g>\n",
              "</svg>\n",
              "  </button>\n",
              "\n",
              "<style>\n",
              "  .colab-df-quickchart {\n",
              "      --bg-color: #E8F0FE;\n",
              "      --fill-color: #1967D2;\n",
              "      --hover-bg-color: #E2EBFA;\n",
              "      --hover-fill-color: #174EA6;\n",
              "      --disabled-fill-color: #AAA;\n",
              "      --disabled-bg-color: #DDD;\n",
              "  }\n",
              "\n",
              "  [theme=dark] .colab-df-quickchart {\n",
              "      --bg-color: #3B4455;\n",
              "      --fill-color: #D2E3FC;\n",
              "      --hover-bg-color: #434B5C;\n",
              "      --hover-fill-color: #FFFFFF;\n",
              "      --disabled-bg-color: #3B4455;\n",
              "      --disabled-fill-color: #666;\n",
              "  }\n",
              "\n",
              "  .colab-df-quickchart {\n",
              "    background-color: var(--bg-color);\n",
              "    border: none;\n",
              "    border-radius: 50%;\n",
              "    cursor: pointer;\n",
              "    display: none;\n",
              "    fill: var(--fill-color);\n",
              "    height: 32px;\n",
              "    padding: 0;\n",
              "    width: 32px;\n",
              "  }\n",
              "\n",
              "  .colab-df-quickchart:hover {\n",
              "    background-color: var(--hover-bg-color);\n",
              "    box-shadow: 0 1px 2px rgba(60, 64, 67, 0.3), 0 1px 3px 1px rgba(60, 64, 67, 0.15);\n",
              "    fill: var(--button-hover-fill-color);\n",
              "  }\n",
              "\n",
              "  .colab-df-quickchart-complete:disabled,\n",
              "  .colab-df-quickchart-complete:disabled:hover {\n",
              "    background-color: var(--disabled-bg-color);\n",
              "    fill: var(--disabled-fill-color);\n",
              "    box-shadow: none;\n",
              "  }\n",
              "\n",
              "  .colab-df-spinner {\n",
              "    border: 2px solid var(--fill-color);\n",
              "    border-color: transparent;\n",
              "    border-bottom-color: var(--fill-color);\n",
              "    animation:\n",
              "      spin 1s steps(1) infinite;\n",
              "  }\n",
              "\n",
              "  @keyframes spin {\n",
              "    0% {\n",
              "      border-color: transparent;\n",
              "      border-bottom-color: var(--fill-color);\n",
              "      border-left-color: var(--fill-color);\n",
              "    }\n",
              "    20% {\n",
              "      border-color: transparent;\n",
              "      border-left-color: var(--fill-color);\n",
              "      border-top-color: var(--fill-color);\n",
              "    }\n",
              "    30% {\n",
              "      border-color: transparent;\n",
              "      border-left-color: var(--fill-color);\n",
              "      border-top-color: var(--fill-color);\n",
              "      border-right-color: var(--fill-color);\n",
              "    }\n",
              "    40% {\n",
              "      border-color: transparent;\n",
              "      border-right-color: var(--fill-color);\n",
              "      border-top-color: var(--fill-color);\n",
              "    }\n",
              "    60% {\n",
              "      border-color: transparent;\n",
              "      border-right-color: var(--fill-color);\n",
              "    }\n",
              "    80% {\n",
              "      border-color: transparent;\n",
              "      border-right-color: var(--fill-color);\n",
              "      border-bottom-color: var(--fill-color);\n",
              "    }\n",
              "    90% {\n",
              "      border-color: transparent;\n",
              "      border-bottom-color: var(--fill-color);\n",
              "    }\n",
              "  }\n",
              "</style>\n",
              "\n",
              "  <script>\n",
              "    async function quickchart(key) {\n",
              "      const quickchartButtonEl =\n",
              "        document.querySelector('#' + key + ' button');\n",
              "      quickchartButtonEl.disabled = true;  // To prevent multiple clicks.\n",
              "      quickchartButtonEl.classList.add('colab-df-spinner');\n",
              "      try {\n",
              "        const charts = await google.colab.kernel.invokeFunction(\n",
              "            'suggestCharts', [key], {});\n",
              "      } catch (error) {\n",
              "        console.error('Error during call to suggestCharts:', error);\n",
              "      }\n",
              "      quickchartButtonEl.classList.remove('colab-df-spinner');\n",
              "      quickchartButtonEl.classList.add('colab-df-quickchart-complete');\n",
              "    }\n",
              "    (() => {\n",
              "      let quickchartButtonEl =\n",
              "        document.querySelector('#df-dc417006-fdd1-4289-93dc-7d31c9b7af5b button');\n",
              "      quickchartButtonEl.style.display =\n",
              "        google.colab.kernel.accessAllowed ? 'block' : 'none';\n",
              "    })();\n",
              "  </script>\n",
              "</div>\n",
              "    </div>\n",
              "  </div>\n"
            ]
          },
          "metadata": {},
          "execution_count": 22
        }
      ]
    },
    {
      "cell_type": "code",
      "source": [
        "results.theta.plot(label='theta')\n",
        "decorate(xlabel='Time (s)',\n",
        "             ylabel='Angle (rad)')"
      ],
      "metadata": {
        "colab": {
          "base_uri": "https://localhost:8080/",
          "height": 309
        },
        "id": "MI28-HgblgT3",
        "outputId": "e764318a-3cbc-41ff-ea59-259ed61b8cd6"
      },
      "execution_count": 23,
      "outputs": [
        {
          "output_type": "display_data",
          "data": {
            "text/plain": [
              "<Figure size 450x300 with 1 Axes>"
            ],
            "image/png": "[encoded data removed]"
          },
          "metadata": {}
        }
      ]
    },
    {
      "cell_type": "code",
      "source": [
        "results.omega.plot(label='omega', color='C1')\n",
        "decorate(xlabel='Time (s)',\n",
        "             ylabel='Angular velocity (rad/s)')"
      ],
      "metadata": {
        "colab": {
          "base_uri": "https://localhost:8080/",
          "height": 309
        },
        "id": "dGZyWC0olhD2",
        "outputId": "af949d27-973b-4764-c7db-840b3486c445"
      },
      "execution_count": 24,
      "outputs": [
        {
          "output_type": "display_data",
          "data": {
            "text/plain": [
              "<Figure size 450x300 with 1 Axes>"
            ],
            "image/png": "[encoded data removed]"
          },
          "metadata": {}
        }
      ]
    },
    {
      "cell_type": "code",
      "source": [
        "def run_two_phases(force, torque_friction, system):\n",
        "\n",
        "    system1 = system.set(force=force,\n",
        "                         torque_friction=torque_friction)\n",
        "\n",
        "    results1, details1 = run_solve_ivp(system1, slope_func,\n",
        "                                       events=event_func1)\n",
        "\n",
        "    t_2 = results1.index[-1]\n",
        "    init2 = results1.iloc[-1]\n",
        "\n",
        "    system2 = system1.set(t_0=t_2, init=init2, force=0)\n",
        "    results2, details2 = run_solve_ivp(system2, slope_func,\n",
        "                                       events=event_func2)\n",
        "\n",
        "    results = pd.concat([results1, results2])\n",
        "    return results"
      ],
      "metadata": {
        "id": "NCoN85PFlibu"
      },
      "execution_count": 25,
      "outputs": []
    },
    {
      "cell_type": "code",
      "source": [
        "force = 2\n",
        "torque_friction = 0.3\n",
        "results = run_two_phases(force, torque_friction, system)\n",
        "results.tail()"
      ],
      "metadata": {
        "colab": {
          "base_uri": "https://localhost:8080/",
          "height": 206
        },
        "id": "66TWJlLvljZg",
        "outputId": "8b8edf41-8e23-4cad-a64e-512b116f3dd5"
      },
      "execution_count": 26,
      "outputs": [
        {
          "output_type": "execute_result",
          "data": {
            "text/plain": [
              "             theta         omega\n",
              "3.720462  1.664800  3.483439e-02\n",
              "3.747255  1.665617  2.612579e-02\n",
              "3.774049  1.666200  1.741719e-02\n",
              "3.800842  1.666550  8.708597e-03\n",
              "3.827636  1.666667 -2.220446e-16"
            ],
            "text/html": [
              "\n",
              "  <div id=\"df-1ba67640-014f-413b-90f3-83dbef64da63\" class=\"colab-df-container\">\n",
              "    <div>\n",
              "<style scoped>\n",
              "    .dataframe tbody tr th:only-of-type {\n",
              "        vertical-align: middle;\n",
              "    }\n",
              "\n",
              "    .dataframe tbody tr th {\n",
              "        vertical-align: top;\n",
              "    }\n",
              "\n",
              "    .dataframe thead th {\n",
              "        text-align: right;\n",
              "    }\n",
              "</style>\n",
              "<table border=\"1\" class=\"dataframe\">\n",
              "  <thead>\n",
              "    <tr style=\"text-align: right;\">\n",
              "      <th></th>\n",
              "      <th>theta</th>\n",
              "      <th>omega</th>\n",
              "    </tr>\n",
              "  </thead>\n",
              "  <tbody>\n",
              "    <tr>\n",
              "      <th>3.720462</th>\n",
              "      <td>1.664800</td>\n",
              "      <td>3.483439e-02</td>\n",
              "    </tr>\n",
              "    <tr>\n",
              "      <th>3.747255</th>\n",
              "      <td>1.665617</td>\n",
              "      <td>2.612579e-02</td>\n",
              "    </tr>\n",
              "    <tr>\n",
              "      <th>3.774049</th>\n",
              "      <td>1.666200</td>\n",
              "      <td>1.741719e-02</td>\n",
              "    </tr>\n",
              "    <tr>\n",
              "      <th>3.800842</th>\n",
              "      <td>1.666550</td>\n",
              "      <td>8.708597e-03</td>\n",
              "    </tr>\n",
              "    <tr>\n",
              "      <th>3.827636</th>\n",
              "      <td>1.666667</td>\n",
              "      <td>-2.220446e-16</td>\n",
              "    </tr>\n",
              "  </tbody>\n",
              "</table>\n",
              "</div>\n",
              "    <div class=\"colab-df-buttons\">\n",
              "\n",
              "  <div class=\"colab-df-container\">\n",
              "    <button class=\"colab-df-convert\" onclick=\"convertToInteractive('df-1ba67640-014f-413b-90f3-83dbef64da63')\"\n",
              "            title=\"Convert this dataframe to an interactive table.\"\n",
              "            style=\"display:none;\">\n",
              "\n",
              "  <svg xmlns=\"http://www.w3.org/2000/svg\" height=\"24px\" viewBox=\"0 -960 960 960\">\n",
              "    <path d=\"M120-120v-720h720v720H120Zm60-500h600v-160H180v160Zm220 220h160v-160H400v160Zm0 220h160v-160H400v160ZM180-400h160v-160H180v160Zm440 0h160v-160H620v160ZM180-180h160v-160H180v160Zm440 0h160v-160H620v160Z\"/>\n",
              "  </svg>\n",
              "    </button>\n",
              "\n",
              "  <style>\n",
              "    .colab-df-container {\n",
              "      display:flex;\n",
              "      gap: 12px;\n",
              "    }\n",
              "\n",
              "    .colab-df-convert {\n",
              "      background-color: #E8F0FE;\n",
              "      border: none;\n",
              "      border-radius: 50%;\n",
              "      cursor: pointer;\n",
              "      display: none;\n",
              "      fill: #1967D2;\n",
              "      height: 32px;\n",
              "      padding: 0 0 0 0;\n",
              "      width: 32px;\n",
              "    }\n",
              "\n",
              "    .colab-df-convert:hover {\n",
              "      background-color: #E2EBFA;\n",
              "      box-shadow: 0px 1px 2px rgba(60, 64, 67, 0.3), 0px 1px 3px 1px rgba(60, 64, 67, 0.15);\n",
              "      fill: #174EA6;\n",
              "    }\n",
              "\n",
              "    .colab-df-buttons div {\n",
              "      margin-bottom: 4px;\n",
              "    }\n",
              "\n",
              "    [theme=dark] .colab-df-convert {\n",
              "      background-color: #3B4455;\n",
              "      fill: #D2E3FC;\n",
              "    }\n",
              "\n",
              "    [theme=dark] .colab-df-convert:hover {\n",
              "      background-color: #434B5C;\n",
              "      box-shadow: 0px 1px 3px 1px rgba(0, 0, 0, 0.15);\n",
              "      filter: drop-shadow(0px 1px 2px rgba(0, 0, 0, 0.3));\n",
              "      fill: #FFFFFF;\n",
              "    }\n",
              "  </style>\n",
              "\n",
              "    <script>\n",
              "      const buttonEl =\n",
              "        document.querySelector('#df-1ba67640-014f-413b-90f3-83dbef64da63 button.colab-df-convert');\n",
              "      buttonEl.style.display =\n",
              "        google.colab.kernel.accessAllowed ? 'block' : 'none';\n",
              "\n",
              "      async function convertToInteractive(key) {\n",
              "        const element = document.querySelector('#df-1ba67640-014f-413b-90f3-83dbef64da63');\n",
              "        const dataTable =\n",
              "          await google.colab.kernel.invokeFunction('convertToInteractive',\n",
              "                                                    [key], {});\n",
              "        if (!dataTable) return;\n",
              "\n",
              "        const docLinkHtml = 'Like what you see? Visit the ' +\n",
              "          '<a target=\"_blank\" href=https://colab.research.google.com/notebooks/data_table.ipynb>data table notebook</a>'\n",
              "          + ' to learn more about interactive tables.';\n",
              "        element.innerHTML = '';\n",
              "        dataTable['output_type'] = 'display_data';\n",
              "        await google.colab.output.renderOutput(dataTable, element);\n",
              "        const docLink = document.createElement('div');\n",
              "        docLink.innerHTML = docLinkHtml;\n",
              "        element.appendChild(docLink);\n",
              "      }\n",
              "    </script>\n",
              "  </div>\n",
              "\n",
              "\n",
              "<div id=\"df-d0739094-3024-4f89-82fe-ff4b8634eb20\">\n",
              "  <button class=\"colab-df-quickchart\" onclick=\"quickchart('df-d0739094-3024-4f89-82fe-ff4b8634eb20')\"\n",
              "            title=\"Suggest charts\"\n",
              "            style=\"display:none;\">\n",
              "\n",
              "<svg xmlns=\"http://www.w3.org/2000/svg\" height=\"24px\"viewBox=\"0 0 24 24\"\n",
              "     width=\"24px\">\n",
              "    <g>\n",
              "        <path d=\"M19 3H5c-1.1 0-2 .9-2 2v14c0 1.1.9 2 2 2h14c1.1 0 2-.9 2-2V5c0-1.1-.9-2-2-2zM9 17H7v-7h2v7zm4 0h-2V7h2v10zm4 0h-2v-4h2v4z\"/>\n",
              "    </g>\n",
              "</svg>\n",
              "  </button>\n",
              "\n",
              "<style>\n",
              "  .colab-df-quickchart {\n",
              "      --bg-color: #E8F0FE;\n",
              "      --fill-color: #1967D2;\n",
              "      --hover-bg-color: #E2EBFA;\n",
              "      --hover-fill-color: #174EA6;\n",
              "      --disabled-fill-color: #AAA;\n",
              "      --disabled-bg-color: #DDD;\n",
              "  }\n",
              "\n",
              "  [theme=dark] .colab-df-quickchart {\n",
              "      --bg-color: #3B4455;\n",
              "      --fill-color: #D2E3FC;\n",
              "      --hover-bg-color: #434B5C;\n",
              "      --hover-fill-color: #FFFFFF;\n",
              "      --disabled-bg-color: #3B4455;\n",
              "      --disabled-fill-color: #666;\n",
              "  }\n",
              "\n",
              "  .colab-df-quickchart {\n",
              "    background-color: var(--bg-color);\n",
              "    border: none;\n",
              "    border-radius: 50%;\n",
              "    cursor: pointer;\n",
              "    display: none;\n",
              "    fill: var(--fill-color);\n",
              "    height: 32px;\n",
              "    padding: 0;\n",
              "    width: 32px;\n",
              "  }\n",
              "\n",
              "  .colab-df-quickchart:hover {\n",
              "    background-color: var(--hover-bg-color);\n",
              "    box-shadow: 0 1px 2px rgba(60, 64, 67, 0.3), 0 1px 3px 1px rgba(60, 64, 67, 0.15);\n",
              "    fill: var(--button-hover-fill-color);\n",
              "  }\n",
              "\n",
              "  .colab-df-quickchart-complete:disabled,\n",
              "  .colab-df-quickchart-complete:disabled:hover {\n",
              "    background-color: var(--disabled-bg-color);\n",
              "    fill: var(--disabled-fill-color);\n",
              "    box-shadow: none;\n",
              "  }\n",
              "\n",
              "  .colab-df-spinner {\n",
              "    border: 2px solid var(--fill-color);\n",
              "    border-color: transparent;\n",
              "    border-bottom-color: var(--fill-color);\n",
              "    animation:\n",
              "      spin 1s steps(1) infinite;\n",
              "  }\n",
              "\n",
              "  @keyframes spin {\n",
              "    0% {\n",
              "      border-color: transparent;\n",
              "      border-bottom-color: var(--fill-color);\n",
              "      border-left-color: var(--fill-color);\n",
              "    }\n",
              "    20% {\n",
              "      border-color: transparent;\n",
              "      border-left-color: var(--fill-color);\n",
              "      border-top-color: var(--fill-color);\n",
              "    }\n",
              "    30% {\n",
              "      border-color: transparent;\n",
              "      border-left-color: var(--fill-color);\n",
              "      border-top-color: var(--fill-color);\n",
              "      border-right-color: var(--fill-color);\n",
              "    }\n",
              "    40% {\n",
              "      border-color: transparent;\n",
              "      border-right-color: var(--fill-color);\n",
              "      border-top-color: var(--fill-color);\n",
              "    }\n",
              "    60% {\n",
              "      border-color: transparent;\n",
              "      border-right-color: var(--fill-color);\n",
              "    }\n",
              "    80% {\n",
              "      border-color: transparent;\n",
              "      border-right-color: var(--fill-color);\n",
              "      border-bottom-color: var(--fill-color);\n",
              "    }\n",
              "    90% {\n",
              "      border-color: transparent;\n",
              "      border-bottom-color: var(--fill-color);\n",
              "    }\n",
              "  }\n",
              "</style>\n",
              "\n",
              "  <script>\n",
              "    async function quickchart(key) {\n",
              "      const quickchartButtonEl =\n",
              "        document.querySelector('#' + key + ' button');\n",
              "      quickchartButtonEl.disabled = true;  // To prevent multiple clicks.\n",
              "      quickchartButtonEl.classList.add('colab-df-spinner');\n",
              "      try {\n",
              "        const charts = await google.colab.kernel.invokeFunction(\n",
              "            'suggestCharts', [key], {});\n",
              "      } catch (error) {\n",
              "        console.error('Error during call to suggestCharts:', error);\n",
              "      }\n",
              "      quickchartButtonEl.classList.remove('colab-df-spinner');\n",
              "      quickchartButtonEl.classList.add('colab-df-quickchart-complete');\n",
              "    }\n",
              "    (() => {\n",
              "      let quickchartButtonEl =\n",
              "        document.querySelector('#df-d0739094-3024-4f89-82fe-ff4b8634eb20 button');\n",
              "      quickchartButtonEl.style.display =\n",
              "        google.colab.kernel.accessAllowed ? 'block' : 'none';\n",
              "    })();\n",
              "  </script>\n",
              "</div>\n",
              "    </div>\n",
              "  </div>\n"
            ]
          },
          "metadata": {},
          "execution_count": 26
        }
      ]
    },
    {
      "cell_type": "code",
      "source": [
        "def error_func1(torque_friction, system):\n",
        "    force = system.force\n",
        "    results = run_two_phases(force, torque_friction, system)\n",
        "    theta_final = results.iloc[-1].theta\n",
        "    print(torque_friction, theta_final)\n",
        "    return theta_final - theta_test"
      ],
      "metadata": {
        "id": "rsErvxhVlkPX"
      },
      "execution_count": 27,
      "outputs": []
    },
    {
      "cell_type": "code",
      "source": [
        "guess1 = 0.3\n",
        "error_func1(guess1, system)"
      ],
      "metadata": {
        "colab": {
          "base_uri": "https://localhost:8080/"
        },
        "id": "vWRp_qmjllq9",
        "outputId": "00e540a5-4106-43df-fc0c-c87c95b84f73"
      },
      "execution_count": 28,
      "outputs": [
        {
          "output_type": "stream",
          "name": "stdout",
          "text": [
            "0.3 1.666666666666669\n"
          ]
        },
        {
          "output_type": "execute_result",
          "data": {
            "text/plain": [
              "0.16666666666666896"
            ]
          },
          "metadata": {},
          "execution_count": 28
        }
      ]
    },
    {
      "cell_type": "code",
      "source": [
        "guess2 = 0.4\n",
        "error_func1(guess2, system)"
      ],
      "metadata": {
        "colab": {
          "base_uri": "https://localhost:8080/"
        },
        "id": "vH1-Gkd6llxP",
        "outputId": "5221aa10-f99c-4d03-8eda-f00d13a7229c"
      },
      "execution_count": 29,
      "outputs": [
        {
          "output_type": "stream",
          "name": "stdout",
          "text": [
            "0.4 1.2499999999999996\n"
          ]
        },
        {
          "output_type": "execute_result",
          "data": {
            "text/plain": [
              "-0.25000000000000044"
            ]
          },
          "metadata": {},
          "execution_count": 29
        }
      ]
    },
    {
      "cell_type": "code",
      "source": [
        "res = root_scalar(error_func1, system, bracket=[guess1, guess2])"
      ],
      "metadata": {
        "colab": {
          "base_uri": "https://localhost:8080/"
        },
        "id": "cEkQqclilo7a",
        "outputId": "af3975b1-3ef2-4543-e483-0eb05b829a5d"
      },
      "execution_count": 30,
      "outputs": [
        {
          "output_type": "stream",
          "name": "stdout",
          "text": [
            "0.3 1.666666666666669\n",
            "0.3 1.666666666666669\n",
            "0.4 1.2499999999999996\n",
            "0.3400000000000003 1.4705882352941169\n",
            "0.3340000000000002 1.4970059880239517\n",
            "0.3333320000000001 1.5000060000239976\n",
            "0.3333486666010001 1.4999310034693254\n"
          ]
        }
      ]
    },
    {
      "cell_type": "code",
      "source": [
        "actual_friction = res.root\n",
        "actual_friction"
      ],
      "metadata": {
        "colab": {
          "base_uri": "https://localhost:8080/"
        },
        "id": "qZtym_NflqWo",
        "outputId": "1e011720-5738-454f-fffd-758274d97188"
      },
      "execution_count": 31,
      "outputs": [
        {
          "output_type": "execute_result",
          "data": {
            "text/plain": [
              "0.3333320000000001"
            ]
          },
          "metadata": {},
          "execution_count": 31
        }
      ]
    },
    {
      "cell_type": "code",
      "source": [
        "from matplotlib.patches import Circle\n",
        "from matplotlib.pyplot import gca, axis\n",
        "\n",
        "def draw_func(t, state):\n",
        "    theta, omega = state\n",
        "\n",
        "    circle1 = Circle([0, 0], radius_disk)\n",
        "    gca().add_patch(circle1)\n",
        "\n",
        "    center = pol2cart(theta, radius_pot)\n",
        "    circle2 = Circle(center, 0.05, color='C1')\n",
        "    gca().add_patch(circle2)\n",
        "\n",
        "    axis('equal')"
      ],
      "metadata": {
        "id": "8yW4Cw0wlrWD"
      },
      "execution_count": 32,
      "outputs": []
    },
    {
      "cell_type": "code",
      "source": [
        "state = results.iloc[0]\n",
        "draw_func(0, state)"
      ],
      "metadata": {
        "colab": {
          "base_uri": "https://localhost:8080/",
          "height": 280
        },
        "id": "CCSqDvj6lsgG",
        "outputId": "03a4cc6a-7cc9-4368-bdca-457d3a591b32"
      },
      "execution_count": 33,
      "outputs": [
        {
          "output_type": "display_data",
          "data": {
            "text/plain": [
              "<Figure size 450x300 with 1 Axes>"
            ],
            "image/png": "[encoded data removed]"
          },
          "metadata": {}
        }
      ]
    },
    {
      "cell_type": "code",
      "source": [
        "system3 = system.set(torque_friction=actual_friction)"
      ],
      "metadata": {
        "id": "N0fJxs_rluRO"
      },
      "execution_count": 34,
      "outputs": []
    },
    {
      "cell_type": "code",
      "source": [
        "remaining_angle = theta_target - theta_test\n",
        "remaining_angle"
      ],
      "metadata": {
        "colab": {
          "base_uri": "https://localhost:8080/"
        },
        "id": "Cmr76OAllvcH",
        "outputId": "3a42be43-56f9-4788-c45d-fe9f3eceb3da"
      },
      "execution_count": 35,
      "outputs": [
        {
          "output_type": "execute_result",
          "data": {
            "text/plain": [
              "1.6415926535897931"
            ]
          },
          "metadata": {},
          "execution_count": 35
        }
      ]
    },
    {
      "cell_type": "code",
      "source": [
        "def error_func2(force, system):\n",
        "    results = run_two_phases(force, system.torque_friction, system)\n",
        "    theta_final = results.iloc[-1].theta\n",
        "    print(force, theta_final)\n",
        "    return theta_final - remaining_angle"
      ],
      "metadata": {
        "id": "z8jOODsplyK9"
      },
      "execution_count": 36,
      "outputs": []
    },
    {
      "cell_type": "code",
      "source": [
        "guess1 = 2.0\n",
        "error_func2(guess1, system3)"
      ],
      "metadata": {
        "colab": {
          "base_uri": "https://localhost:8080/"
        },
        "id": "0NmjCM3SlzlV",
        "outputId": "769a0d9a-67aa-4ba7-bd71-c71779abb375"
      },
      "execution_count": 37,
      "outputs": [
        {
          "output_type": "stream",
          "name": "stdout",
          "text": [
            "2.0 1.5000060000239976\n"
          ]
        },
        {
          "output_type": "execute_result",
          "data": {
            "text/plain": [
              "-0.14158665356579547"
            ]
          },
          "metadata": {},
          "execution_count": 37
        }
      ]
    },
    {
      "cell_type": "code",
      "source": [
        "guess2 = 3.0\n",
        "error_func2(guess2, system3)"
      ],
      "metadata": {
        "colab": {
          "base_uri": "https://localhost:8080/"
        },
        "id": "_gCkuPxml1Do",
        "outputId": "059696e2-024b-4995-dd10-32ade6b58754"
      },
      "execution_count": 38,
      "outputs": [
        {
          "output_type": "stream",
          "name": "stdout",
          "text": [
            "3.0 2.250009000035999\n"
          ]
        },
        {
          "output_type": "execute_result",
          "data": {
            "text/plain": [
              "0.608416346446206"
            ]
          },
          "metadata": {},
          "execution_count": 38
        }
      ]
    },
    {
      "cell_type": "code",
      "source": [
        "res = root_scalar(error_func2, system3, bracket=[guess1, guess2])"
      ],
      "metadata": {
        "colab": {
          "base_uri": "https://localhost:8080/"
        },
        "id": "OZ0tDEIgl2Xo",
        "outputId": "0005f459-7177-4fae-b41f-0d8598d20367"
      },
      "execution_count": 39,
      "outputs": [
        {
          "output_type": "stream",
          "name": "stdout",
          "text": [
            "2.0 1.5000060000239976\n",
            "2.0 1.5000060000239976\n",
            "3.0 2.250009000035999\n",
            "2.1887814496255746 1.641592653589789\n",
            "2.188890888699056 1.6416747332232227\n"
          ]
        }
      ]
    },
    {
      "cell_type": "code",
      "source": [
        "force = res.root\n",
        "results = run_two_phases(force, actual_friction, system3)\n",
        "theta_final = results.iloc[-1].theta\n",
        "theta_final + theta_test"
      ],
      "metadata": {
        "colab": {
          "base_uri": "https://localhost:8080/"
        },
        "id": "4qdKAbn4l3oP",
        "outputId": "2264d62f-83b6-4bac-e8e4-eb42d3ba22b8"
      },
      "execution_count": 40,
      "outputs": [
        {
          "output_type": "execute_result",
          "data": {
            "text/plain": [
              "3.1415926535897887"
            ]
          },
          "metadata": {},
          "execution_count": 40
        }
      ]
    },
    {
      "cell_type": "code",
      "source": [
        "theta_target"
      ],
      "metadata": {
        "colab": {
          "base_uri": "https://localhost:8080/"
        },
        "id": "95m4r1Mml5E2",
        "outputId": "ad839e4f-8289-45a6-e5dd-6ce0657c12fa"
      },
      "execution_count": 41,
      "outputs": [
        {
          "output_type": "execute_result",
          "data": {
            "text/plain": [
              "3.141592653589793"
            ]
          },
          "metadata": {},
          "execution_count": 41
        }
      ]
    },
    {
      "cell_type": "markdown",
      "source": [
        "**MODIFICATION**"
      ],
      "metadata": {
        "id": "UdZjn3dtmfc2"
      }
    },
    {
      "cell_type": "markdown",
      "source": [
        "Problem Statement:\n",
        "You have a circular platform that you want to rotate to a specific target angle using two pushes. The first push rotates the platform by a known angle. Your task is to calculate the force needed for the second push to reach the target angle, considering friction."
      ],
      "metadata": {
        "id": "-ju3mEpzmkOu"
      }
    },
    {
      "cell_type": "code",
      "source": [
        "import numpy as np\n",
        "\n",
        "def simulate_rotation(force, friction, initial_angle):\n",
        "    final_angle = initial_angle + force / friction\n",
        "    return final_angle\n",
        "\n",
        "def run_two_phases(force, friction, initial_angle):\n",
        "    first_push_angle = np.pi / 2\n",
        "\n",
        "    final_angle = simulate_rotation(force, friction, first_push_angle)\n",
        "\n",
        "    return final_angle\n",
        "\n",
        "def error_func2(force, friction, target_angle, initial_angle):\n",
        "    final_angle = run_two_phases(force, friction, initial_angle)\n",
        "    remaining_angle = target_angle - initial_angle\n",
        "    return final_angle - remaining_angle\n",
        "\n",
        "friction = 0.5\n",
        "target_angle = np.pi\n",
        "initial_angle = 0\n",
        "from scipy.optimize import root_scalar\n",
        "\n",
        "guess1, guess2 = 0.5, 10.0\n",
        "result = root_scalar(error_func2, args=(friction, target_angle, initial_angle), bracket=[guess1, guess2])\n",
        "\n",
        "force_second_push = result.root if result.converged else None\n",
        "force_second_push, result.converged\n"
      ],
      "metadata": {
        "colab": {
          "base_uri": "https://localhost:8080/"
        },
        "id": "zE2IxVWomqcs",
        "outputId": "6301f898-1dd5-428e-e87d-c0bd522656dc"
      },
      "execution_count": 42,
      "outputs": [
        {
          "output_type": "execute_result",
          "data": {
            "text/plain": [
              "(0.7853981633974483, True)"
            ]
          },
          "metadata": {},
          "execution_count": 42
        }
      ]
    },
    {
      "cell_type": "markdown",
      "source": [
        "The calculated force needed for the second push to rotate the platform to the target angle of 180 degrees (π radians), considering the specified friction, is approximately 0.79 units (in the chosen units of force for this system).\n",
        "\n",
        "This exercise demonstrates how to apply computational techniques to solve a physics problem involving rotational motion and friction. The approach can be adapted to various problems where the objective is to find a specific parameter that achieves a desired outcome in a dynamic system."
      ],
      "metadata": {
        "id": "bnOjIS13nW7I"
      }
    },
    {
      "cell_type": "markdown",
      "source": [
        "![image.png](data:image/png;base64,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)"
      ],
      "metadata": {
        "id": "c67SB2ntnxdw"
      }
    },
    {
      "cell_type": "markdown",
      "source": [
        "The plot visualizes how the final angle of the platform changes with varying applied forces. Here are some key observations:\n",
        "\n",
        "Final Angle vs Applied Force: The blue line shows the final angle achieved by the platform for each applied force. As the force increases, the final angle approaches the target angle.\n",
        "\n",
        "Target Angle: The green dashed line represents the target angle of 180 degrees (π radians). You can see that as the force applied gets closer to the calculated optimal force (approximately 0.79 units), the final angle converges to this target.\n",
        "\n",
        "Initial Angle: The red dotted line indicates the initial angle, which is 0 degrees in this case."
      ],
      "metadata": {
        "id": "aiOS7qGVoBJ4"
      }
    }
  ]
}