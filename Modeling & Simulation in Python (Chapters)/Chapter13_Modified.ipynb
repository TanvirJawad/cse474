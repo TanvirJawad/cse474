{
  "nbformat": 4,
  "nbformat_minor": 0,
  "metadata": {
    "colab": {
      "provenance": []
    },
    "kernelspec": {
      "name": "python3",
      "display_name": "Python 3"
    },
    "language_info": {
      "name": "python"
    }
  },
  "cells": [
    {
      "cell_type": "markdown",
      "source": [
        "Md. Tanvir Jawad<br>ID: 21101221"
      ],
      "metadata": {
        "id": "jd0Pnaxd9LqH"
      }
    },
    {
      "cell_type": "code",
      "execution_count": 2,
      "metadata": {
        "colab": {
          "base_uri": "https://localhost:8080/"
        },
        "id": "h0pAF0xO9JPe",
        "outputId": "d6f12e28-6818-4378-bc6b-06b0a24169ed"
      },
      "outputs": [
        {
          "output_type": "stream",
          "name": "stdout",
          "text": [
            "Collecting pint\n",
            "  Downloading Pint-0.22-py3-none-any.whl (294 kB)\n",
            "\u001b[?25l     \u001b[90m━━━━━━━━━━━━━━━━━━━━━━━━━━━━━━━━━━━━━━━━\u001b[0m \u001b[32m0.0/294.0 kB\u001b[0m \u001b[31m?\u001b[0m eta \u001b[36m-:--:--\u001b[0m\r\u001b[2K     \u001b[91m━━━━━━━━━━━━━━━━━━━━━━━\u001b[0m\u001b[91m╸\u001b[0m\u001b[90m━━━━━━━━━━━━━━━━\u001b[0m \u001b[32m174.1/294.0 kB\u001b[0m \u001b[31m5.3 MB/s\u001b[0m eta \u001b[36m0:00:01\u001b[0m\r\u001b[2K     \u001b[90m━━━━━━━━━━━━━━━━━━━━━━━━━━━━━━━━━━━━━━━━\u001b[0m \u001b[32m294.0/294.0 kB\u001b[0m \u001b[31m5.5 MB/s\u001b[0m eta \u001b[36m0:00:00\u001b[0m\n",
            "\u001b[?25hRequirement already satisfied: typing-extensions in /usr/local/lib/python3.10/dist-packages (from pint) (4.5.0)\n",
            "Installing collected packages: pint\n",
            "Successfully installed pint-0.22\n"
          ]
        }
      ],
      "source": [
        "try:\n",
        "    import pint\n",
        "except ImportError:\n",
        "    !pip install pint"
      ]
    },
    {
      "cell_type": "code",
      "source": [
        "from os.path import basename, exists\n",
        "\n",
        "def download(url):\n",
        "    filename = basename(url)\n",
        "    if not exists(filename):\n",
        "        from urllib.request import urlretrieve\n",
        "        local, _ = urlretrieve(url, filename)\n",
        "        print('Downloaded ' + local)\n",
        "\n",
        "download('https://raw.githubusercontent.com/AllenDowney/' +\n",
        "         'ModSimPy/master/modsim.py')"
      ],
      "metadata": {
        "colab": {
          "base_uri": "https://localhost:8080/"
        },
        "id": "sVfhsKwd9SVn",
        "outputId": "43d969c9-1a1d-43c9-b796-4e538335f2c2"
      },
      "execution_count": 1,
      "outputs": [
        {
          "output_type": "stream",
          "name": "stdout",
          "text": [
            "Downloaded modsim.py\n"
          ]
        }
      ]
    },
    {
      "cell_type": "code",
      "source": [
        "from modsim import *"
      ],
      "metadata": {
        "id": "uQ2LaCyG9UQQ"
      },
      "execution_count": 3,
      "outputs": []
    },
    {
      "cell_type": "code",
      "source": [
        "download('https://github.com/AllenDowney/ModSimPy/raw/master/chap11.py')"
      ],
      "metadata": {
        "colab": {
          "base_uri": "https://localhost:8080/"
        },
        "id": "BXDimeF49Xqv",
        "outputId": "dd817dd6-4434-4a2f-de1f-07e302930307"
      },
      "execution_count": 4,
      "outputs": [
        {
          "output_type": "stream",
          "name": "stdout",
          "text": [
            "Downloaded chap11.py\n"
          ]
        }
      ]
    },
    {
      "cell_type": "code",
      "source": [
        "download('https://github.com/AllenDowney/ModSimPy/raw/master/chap12.py')"
      ],
      "metadata": {
        "colab": {
          "base_uri": "https://localhost:8080/"
        },
        "id": "BhT3oTig9ZmZ",
        "outputId": "86f0aaee-78b4-4f22-a15c-443dc054bf2a"
      },
      "execution_count": 5,
      "outputs": [
        {
          "output_type": "stream",
          "name": "stdout",
          "text": [
            "Downloaded chap12.py\n"
          ]
        }
      ]
    },
    {
      "cell_type": "code",
      "source": [
        "from chap11 import make_system\n",
        "from chap11 import update_func\n",
        "from chap11 import run_simulation\n",
        "from chap11 import plot_results\n",
        "\n",
        "from chap12 import calc_total_infected"
      ],
      "metadata": {
        "id": "rcbgxXMl9bHH"
      },
      "execution_count": 6,
      "outputs": []
    },
    {
      "cell_type": "markdown",
      "source": [
        "Let's define a new model with different disease parameters as the previous model. It simulates the spread of this new disease and sweeps the parameters to analyze their impact on the fraction of infected individuals."
      ],
      "metadata": {
        "id": "68yS1GPkBEXg"
      }
    },
    {
      "cell_type": "code",
      "source": [
        "def update_func_new(t, state, system):\n",
        "    s, i, r = state.s, state.i, state.r\n",
        "\n",
        "    transmission_rate = system.transmission_rate\n",
        "    recovery_rate = system.recovery_rate\n",
        "\n",
        "    new_infections = transmission_rate * i * s\n",
        "    new_recoveries = recovery_rate * i\n",
        "\n",
        "    s -= new_infections\n",
        "    i += new_infections - new_recoveries\n",
        "    r += new_recoveries\n",
        "\n",
        "    return State(s=s, i=i, r=r)"
      ],
      "metadata": {
        "id": "KR3VjsZw9dof"
      },
      "execution_count": 9,
      "outputs": []
    },
    {
      "cell_type": "code",
      "source": [
        "def make_system_new(transmission_rate, recovery_rate):\n",
        "\n",
        "    init = State(s=0.99, i=0.01, r=0)\n",
        "    init /= init.sum()\n",
        "\n",
        "    return System(init=init, t_end=100, transmission_rate=transmission_rate, recovery_rate=recovery_rate)"
      ],
      "metadata": {
        "id": "JmPozQsnAQrh"
      },
      "execution_count": 10,
      "outputs": []
    },
    {
      "cell_type": "code",
      "source": [
        "def run_simulation_new(system, update_func):\n",
        "    frame = TimeFrame(columns=system.init.index)\n",
        "    frame.loc[0] = system.init\n",
        "\n",
        "    for t in range(0, system.t_end):\n",
        "        frame.loc[t+1] = update_func(t, frame.loc[t], system)\n",
        "\n",
        "    return frame"
      ],
      "metadata": {
        "id": "894U3BWLATMI"
      },
      "execution_count": 11,
      "outputs": []
    },
    {
      "cell_type": "code",
      "source": [
        "def calc_total_infected_new(results, system):\n",
        "    s_0 = results.s[0]\n",
        "    s_end = results.s[system.t_end]\n",
        "    return s_0 - s_end"
      ],
      "metadata": {
        "id": "INh2wt1EAVML"
      },
      "execution_count": 12,
      "outputs": []
    },
    {
      "cell_type": "code",
      "source": [
        "def sweep_transmission_rate(transmission_rate_array):\n",
        "    sweep = SweepSeries()\n",
        "\n",
        "    for transmission_rate in transmission_rate_array:\n",
        "        system = make_system_new(transmission_rate, recovery_rate)\n",
        "        results = run_simulation_new(system, update_func_new)\n",
        "        sweep[transmission_rate] = calc_total_infected_new(results, system)\n",
        "\n",
        "    return sweep"
      ],
      "metadata": {
        "id": "YgGUpDwNAWtg"
      },
      "execution_count": 13,
      "outputs": []
    },
    {
      "cell_type": "code",
      "source": [
        "def sweep_recovery_rate(recovery_rate_array):\n",
        "    sweep = SweepSeries()\n",
        "\n",
        "    for recovery_rate in recovery_rate_array:\n",
        "        system = make_system_new(transmission_rate, recovery_rate)\n",
        "        results = run_simulation_new(system, update_func_new)\n",
        "        sweep[recovery_rate] = calc_total_infected_new(results, system)\n",
        "\n",
        "    return sweep"
      ],
      "metadata": {
        "id": "KuBHOC6nAX-X"
      },
      "execution_count": 14,
      "outputs": []
    },
    {
      "cell_type": "code",
      "source": [
        "transmission_rate = 0.2\n",
        "recovery_rate = 0.1\n",
        "\n",
        "system_new = make_system_new(transmission_rate, recovery_rate)\n",
        "\n",
        "results_new = run_simulation_new(system_new, update_func_new)\n",
        "\n",
        "transmission_rate_array = linspace(0, 1, 21)\n",
        "recovery_rate_array = linspace(0, 0.5, 21)\n",
        "\n",
        "infected_sweep_new = sweep_transmission_rate(transmission_rate_array)"
      ],
      "metadata": {
        "id": "35378OlqAZIg"
      },
      "execution_count": 15,
      "outputs": []
    },
    {
      "cell_type": "code",
      "source": [
        "infected_sweep_new.plot(color='C0')\n",
        "decorate(xlabel='Transmission Rate', ylabel='Total fraction infected', title='Fraction infected vs. Transmission Rate')"
      ],
      "metadata": {
        "colab": {
          "base_uri": "https://localhost:8080/",
          "height": 309
        },
        "id": "-BTsYXttAbv3",
        "outputId": "6e4fd5ca-fed8-4453-fa69-5cf1d13a8680"
      },
      "execution_count": 16,
      "outputs": [
        {
          "output_type": "display_data",
          "data": {
            "text/plain": [
              "<Figure size 450x300 with 1 Axes>"
            ],
            "image/png": "[encoded data removed]"
          },
          "metadata": {}
        }
      ]
    }
  ]
}