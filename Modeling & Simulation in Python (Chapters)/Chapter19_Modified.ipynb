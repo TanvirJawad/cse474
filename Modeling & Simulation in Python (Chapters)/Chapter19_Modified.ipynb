{
  "nbformat": 4,
  "nbformat_minor": 0,
  "metadata": {
    "colab": {
      "provenance": []
    },
    "kernelspec": {
      "name": "python3",
      "display_name": "Python 3"
    },
    "language_info": {
      "name": "python"
    }
  },
  "cells": [
    {
      "cell_type": "markdown",
      "source": [
        "Md. Tanvir Jawad<br>ID: 21101221"
      ],
      "metadata": {
        "id": "YeMzb7Jf4Def"
      }
    },
    {
      "cell_type": "code",
      "execution_count": 1,
      "metadata": {
        "id": "6lG3ApfS30X5"
      },
      "outputs": [],
      "source": [
        "from os.path import basename, exists\n",
        "\n",
        "def download(url):\n",
        "    filename = basename(url)\n",
        "    if not exists(filename):\n",
        "        from urllib.request import urlretrieve\n",
        "        local, _ = urlretrieve(url, filename)\n",
        "        print('Downloaded ' + local)\n",
        "\n",
        "download('https://raw.githubusercontent.com/AllenDowney/' +\n",
        "         'ModSimPy/master/modsim.py')"
      ]
    },
    {
      "cell_type": "code",
      "source": [
        "from modsim import *"
      ],
      "metadata": {
        "id": "l85QMBMp4G8l"
      },
      "execution_count": 2,
      "outputs": []
    },
    {
      "cell_type": "code",
      "source": [
        "download('https://github.com/AllenDowney/ModSimPy/raw/master/chap11.py')"
      ],
      "metadata": {
        "id": "bazi1x8G7-GO"
      },
      "execution_count": 3,
      "outputs": []
    },
    {
      "cell_type": "code",
      "source": [
        "from chap11 import make_system\n",
        "from chap11 import update_func\n",
        "from chap11 import run_simulation\n",
        "from chap11 import plot_results"
      ],
      "metadata": {
        "id": "xoFIAsaE6E6O"
      },
      "execution_count": 4,
      "outputs": []
    },
    {
      "cell_type": "code",
      "source": [
        "data = pd.read_csv('https://raw.githubusercontent.com/AllenDowney/ModSimPy/master/data/glucose_insulin.csv', index_col='time')"
      ],
      "metadata": {
        "id": "MIUFwwSX46FA"
      },
      "execution_count": 5,
      "outputs": []
    },
    {
      "cell_type": "code",
      "source": [
        "import numpy as np\n",
        "from scipy.integrate import odeint\n",
        "import matplotlib.pyplot as plt"
      ],
      "metadata": {
        "id": "MM2_8kzJAG5u"
      },
      "execution_count": 6,
      "outputs": []
    },
    {
      "cell_type": "markdown",
      "source": [
        "**MODIFICATION**"
      ],
      "metadata": {
        "id": "69_65YeyAqke"
      }
    },
    {
      "cell_type": "markdown",
      "source": [
        "This allows us to create instances of the HIV model with different parameter values and simulate them independently:"
      ],
      "metadata": {
        "id": "7fjaO38KA1Gc"
      }
    },
    {
      "cell_type": "code",
      "source": [
        "class HIVModel:\n",
        "    def __init__(self, alpha, beta, delta, gamma, V0, T0):\n",
        "        self.alpha = alpha\n",
        "        self.beta = beta\n",
        "        self.delta = delta\n",
        "        self.gamma = gamma\n",
        "        self.V0 = V0\n",
        "        self.T0 = T0\n",
        "\n",
        "    def hiv_model(self, y, t):\n",
        "        V, T = y\n",
        "        dVdt = self.alpha - self.beta * V * T\n",
        "        dTdt = self.delta * T * V - self.gamma * T\n",
        "        return [dVdt, dTdt]\n",
        "\n",
        "    def simulate(self, total_time, num_points):\n",
        "\n",
        "        t = np.linspace(0, total_time, num_points)\n",
        "\n",
        "        solution = odeint(self.hiv_model, [self.V0, self.T0], t)\n",
        "\n",
        "        V, T = solution.T\n",
        "        plt.plot(t, V, label='Virus Concentration')\n",
        "        plt.plot(t, T, label='CD4 Cell Concentration')\n",
        "        plt.xlabel('Time')\n",
        "        plt.ylabel('Concentration')\n",
        "        plt.legend()\n",
        "        plt.show()\n",
        "\n",
        "alpha = 0.1\n",
        "beta = 0.02\n",
        "delta = 0.01\n",
        "gamma = 0.1\n",
        "V0 = 1.0\n",
        "T0 = 1.0\n",
        "total_time = 100\n",
        "num_points = 1000\n",
        "\n",
        "hiv_model_instance = HIVModel(alpha, beta, delta, gamma, V0, T0)\n",
        "hiv_model_instance.simulate(total_time, num_points)\n"
      ],
      "metadata": {
        "colab": {
          "base_uri": "https://localhost:8080/",
          "height": 294
        },
        "id": "EE6_SwtoA4wP",
        "outputId": "38a3f1dd-865f-420a-ecfb-72e8e79faaac"
      },
      "execution_count": 7,
      "outputs": [
        {
          "output_type": "display_data",
          "data": {
            "text/plain": [
              "<Figure size 450x300 with 1 Axes>"
            ],
            "image/png": "[encoded data removed]"
          },
          "metadata": {}
        }
      ]
    }
  ]
}