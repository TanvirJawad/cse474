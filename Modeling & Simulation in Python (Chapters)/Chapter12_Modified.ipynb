{
  "nbformat": 4,
  "nbformat_minor": 0,
  "metadata": {
    "colab": {
      "provenance": []
    },
    "kernelspec": {
      "name": "python3",
      "display_name": "Python 3"
    },
    "language_info": {
      "name": "python"
    }
  },
  "cells": [
    {
      "cell_type": "markdown",
      "source": [
        "Md. Tanvir Jawad<br>ID: 21101221"
      ],
      "metadata": {
        "id": "B8KeqrUc3W6t"
      }
    },
    {
      "cell_type": "code",
      "execution_count": 2,
      "metadata": {
        "colab": {
          "base_uri": "https://localhost:8080/"
        },
        "id": "4RkjnjSw3Ud-",
        "outputId": "3ebca001-c467-4dbe-da39-8404fa5c29c5"
      },
      "outputs": [
        {
          "output_type": "stream",
          "name": "stdout",
          "text": [
            "Downloaded modsim.py\n"
          ]
        }
      ],
      "source": [
        "from os.path import basename, exists\n",
        "\n",
        "def download(url):\n",
        "    filename = basename(url)\n",
        "    if not exists(filename):\n",
        "        from urllib.request import urlretrieve\n",
        "        local, _ = urlretrieve(url, filename)\n",
        "        print('Downloaded ' + local)\n",
        "\n",
        "download('https://github.com/AllenDowney/ModSimPy/raw/master/' + 'modsim.py')"
      ]
    },
    {
      "cell_type": "code",
      "source": [
        "from modsim import *"
      ],
      "metadata": {
        "id": "T2NWw4n73psp"
      },
      "execution_count": 3,
      "outputs": []
    },
    {
      "cell_type": "code",
      "source": [
        "download('https://github.com/AllenDowney/ModSimPy/raw/master/chap11.py')"
      ],
      "metadata": {
        "colab": {
          "base_uri": "https://localhost:8080/"
        },
        "id": "h6whAoUj3w7G",
        "outputId": "6e935622-227e-4f96-a940-13b0d0e9cc88"
      },
      "execution_count": 4,
      "outputs": [
        {
          "output_type": "stream",
          "name": "stdout",
          "text": [
            "Downloaded chap11.py\n"
          ]
        }
      ]
    },
    {
      "cell_type": "code",
      "source": [
        "from chap11 import make_system\n",
        "from chap11 import update_func\n",
        "from chap11 import run_simulation"
      ],
      "metadata": {
        "id": "Fur3wkUo3yV-"
      },
      "execution_count": 5,
      "outputs": []
    },
    {
      "cell_type": "markdown",
      "source": [
        " We'll define a new model with different disease parameters, including a transmission rate and a recovery rate. It will simulate the spread of the new disease and sweeps the parameters to analyze their impact on the fraction of infected individuals."
      ],
      "metadata": {
        "id": "XBy4Q3M_63dJ"
      }
    },
    {
      "cell_type": "code",
      "source": [
        "def update_func_new(t, state, system):\n",
        "    s, i, r = state.s, state.i, state.r\n",
        "\n",
        "    transmission_rate = system.transmission_rate\n",
        "    recovery_rate = system.recovery_rate\n",
        "\n",
        "    new_infections = transmission_rate * i * s\n",
        "    new_recoveries = recovery_rate * i\n",
        "\n",
        "    s -= new_infections\n",
        "    i += new_infections - new_recoveries\n",
        "    r += new_recoveries\n",
        "\n",
        "    return State(s=s, i=i, r=r)"
      ],
      "metadata": {
        "id": "csgZcoPv5ylG"
      },
      "execution_count": 18,
      "outputs": []
    },
    {
      "cell_type": "code",
      "source": [
        "def make_system_new(transmission_rate, recovery_rate):\n",
        "\n",
        "    init = State(s=0.99, i=0.01, r=0)\n",
        "    init /= init.sum()\n",
        "\n",
        "    return System(init=init, t_end=100, transmission_rate=transmission_rate, recovery_rate=recovery_rate)"
      ],
      "metadata": {
        "id": "EXhXbEAm55rG"
      },
      "execution_count": 19,
      "outputs": []
    },
    {
      "cell_type": "code",
      "source": [
        "def run_simulation_new(system, update_func):\n",
        "    frame = TimeFrame(columns=system.init.index)\n",
        "    frame.loc[0] = system.init\n",
        "\n",
        "    for t in range(0, system.t_end):\n",
        "        frame.loc[t+1] = update_func(t, frame.loc[t], system)\n",
        "\n",
        "    return frame"
      ],
      "metadata": {
        "id": "y3PgIN1l59hI"
      },
      "execution_count": 20,
      "outputs": []
    },
    {
      "cell_type": "code",
      "source": [
        "def calc_total_infected_new(results, system):\n",
        "    s_0 = results.s[0]\n",
        "    s_end = results.s[system.t_end]\n",
        "    return s_0 - s_end"
      ],
      "metadata": {
        "id": "WWPwysxE5_PY"
      },
      "execution_count": 21,
      "outputs": []
    },
    {
      "cell_type": "code",
      "source": [
        "def sweep_transmission_rate(transmission_rate_array):\n",
        "    sweep = SweepSeries()\n",
        "\n",
        "    for transmission_rate in transmission_rate_array:\n",
        "        system = make_system_new(transmission_rate, recovery_rate)\n",
        "        results = run_simulation_new(system, update_func_new)\n",
        "        sweep[transmission_rate] = calc_total_infected_new(results, system)\n",
        "\n",
        "    return sweep"
      ],
      "metadata": {
        "id": "nL0JFzDu6HUG"
      },
      "execution_count": 22,
      "outputs": []
    },
    {
      "cell_type": "code",
      "source": [
        "def sweep_recovery_rate(recovery_rate_array):\n",
        "    sweep = SweepSeries()\n",
        "\n",
        "    for recovery_rate in recovery_rate_array:\n",
        "        system = make_system_new(transmission_rate, recovery_rate)\n",
        "        results = run_simulation_new(system, update_func_new)\n",
        "        sweep[recovery_rate] = calc_total_infected_new(results, system)\n",
        "\n",
        "    return sweep"
      ],
      "metadata": {
        "id": "Gv4PoeF96J8u"
      },
      "execution_count": 23,
      "outputs": []
    },
    {
      "cell_type": "code",
      "source": [
        "transmission_rate = 0.2\n",
        "recovery_rate = 0.1\n",
        "system_new = make_system_new(transmission_rate, recovery_rate)\n",
        "results_new = run_simulation_new(system_new, update_func_new)\n",
        "transmission_rate_array = linspace(0, 1, 21)\n",
        "recovery_rate_array = linspace(0, 0.5, 21)\n",
        "infected_sweep_new = sweep_transmission_rate(transmission_rate_array)"
      ],
      "metadata": {
        "id": "WwudfpGJ6LVm"
      },
      "execution_count": 24,
      "outputs": []
    },
    {
      "cell_type": "code",
      "source": [
        "infected_sweep_new.plot(color='C0')\n",
        "decorate(xlabel='Transmission Rate', ylabel='Total fraction infected', title='Fraction infected vs. Transmission Rate')"
      ],
      "metadata": {
        "colab": {
          "base_uri": "https://localhost:8080/",
          "height": 309
        },
        "id": "rO-jJQr96QJ3",
        "outputId": "a4e3397b-ebce-4ab2-b56b-571b711cb7d2"
      },
      "execution_count": 25,
      "outputs": [
        {
          "output_type": "display_data",
          "data": {
            "text/plain": [
              "<Figure size 450x300 with 1 Axes>"
            ],
            "image/png": "[encoded data removed]"
          },
          "metadata": {}
        }
      ]
    },
    {
      "cell_type": "code",
      "source": [
        "infected_sweep_new2 = sweep_recovery_rate(recovery_rate_array)\n",
        "\n",
        "infected_sweep_new2.plot(color='C1')\n",
        "decorate(xlabel='Recovery Rate', ylabel='Total fraction infected', title='Fraction infected vs. Recovery Rate')"
      ],
      "metadata": {
        "colab": {
          "base_uri": "https://localhost:8080/",
          "height": 309
        },
        "id": "wgsaDrIn6VNf",
        "outputId": "73244e9c-1d0b-47db-e2ba-e3a892815711"
      },
      "execution_count": 26,
      "outputs": [
        {
          "output_type": "display_data",
          "data": {
            "text/plain": [
              "<Figure size 450x300 with 1 Axes>"
            ],
            "image/png": "[encoded data removed]"
          },
          "metadata": {}
        }
      ]
    }
  ]
}