{
  "nbformat": 4,
  "nbformat_minor": 0,
  "metadata": {
    "colab": {
      "provenance": []
    },
    "kernelspec": {
      "name": "python3",
      "display_name": "Python 3"
    },
    "language_info": {
      "name": "python"
    }
  },
  "cells": [
    {
      "cell_type": "markdown",
      "source": [
        "Md. Tanvir Jawad<br>ID: 21101221"
      ],
      "metadata": {
        "id": "gpHLtYchcGKu"
      }
    },
    {
      "cell_type": "code",
      "execution_count": 2,
      "metadata": {
        "id": "48_95aE9cDnA"
      },
      "outputs": [],
      "source": [
        "try:\n",
        "    from pint import UnitRegistry\n",
        "except ImportError:\n",
        "    !pip install pint\n",
        "\n",
        "# import units\n",
        "from pint import UnitRegistry\n",
        "units = UnitRegistry()"
      ]
    },
    {
      "cell_type": "code",
      "source": [
        "from os.path import basename, exists\n",
        "\n",
        "def download(url):\n",
        "    filename = basename(url)\n",
        "    if not exists(filename):\n",
        "        from urllib.request import urlretrieve\n",
        "        local, _ = urlretrieve(url, filename)\n",
        "        print('Downloaded ' + local)\n",
        "\n",
        "download('https://github.com/AllenDowney/ModSimPy/raw/master/' +\n",
        "         'modsim.py')"
      ],
      "metadata": {
        "colab": {
          "base_uri": "https://localhost:8080/"
        },
        "id": "nrI2CpzmcUDp",
        "outputId": "ceea7021-3063-4e70-91bd-2c5dff139715"
      },
      "execution_count": 3,
      "outputs": [
        {
          "output_type": "stream",
          "name": "stdout",
          "text": [
            "Downloaded modsim.py\n"
          ]
        }
      ]
    },
    {
      "cell_type": "code",
      "source": [
        "from modsim import *"
      ],
      "metadata": {
        "id": "P1yGZEwfcU6B"
      },
      "execution_count": 4,
      "outputs": []
    },
    {
      "cell_type": "code",
      "source": [
        "download('https://github.com/AllenDowney/ModSimPy/raw/master/' +\n",
        "         'chap22.py')"
      ],
      "metadata": {
        "colab": {
          "base_uri": "https://localhost:8080/"
        },
        "id": "NPcVdkEYcVrG",
        "outputId": "b9b793cf-6a9a-42fd-94b3-ff4218b0d24f"
      },
      "execution_count": 5,
      "outputs": [
        {
          "output_type": "stream",
          "name": "stdout",
          "text": [
            "Downloaded chap22.py\n"
          ]
        }
      ]
    },
    {
      "cell_type": "code",
      "source": [
        "from chap22 import params\n",
        "from chap22 import make_system\n",
        "from chap22 import slope_func\n",
        "from chap22 import event_func"
      ],
      "metadata": {
        "id": "dcthj2swcWu4"
      },
      "execution_count": 6,
      "outputs": []
    },
    {
      "cell_type": "code",
      "source": [
        "feet_to_meter = (1 * units.feet).to(units.meter).magnitude\n",
        "\n",
        "params = params.set(\n",
        "    wall_distance = 310 * feet_to_meter,\n",
        "    wall_height = 37 * feet_to_meter,\n",
        ")\n",
        "\n",
        "show(params)"
      ],
      "metadata": {
        "colab": {
          "base_uri": "https://localhost:8080/",
          "height": 425
        },
        "id": "dcrGeI58cXrl",
        "outputId": "068600d6-1543-4dd1-915b-79878b72d8cb"
      },
      "execution_count": 7,
      "outputs": [
        {
          "output_type": "execute_result",
          "data": {
            "text/plain": [
              "                 value\n",
              "x               0.0000\n",
              "y               1.0000\n",
              "angle          45.0000\n",
              "speed          40.0000\n",
              "mass            0.1450\n",
              "diameter        0.0730\n",
              "C_d             0.3300\n",
              "rho             1.2000\n",
              "g               9.8000\n",
              "t_end          10.0000\n",
              "wall_distance  94.4880\n",
              "wall_height    11.2776"
            ],
            "text/html": [
              "\n",
              "  <div id=\"df-147f632e-12e5-4f91-ac67-a2b4867a3fc7\" class=\"colab-df-container\">\n",
              "    <div>\n",
              "<style scoped>\n",
              "    .dataframe tbody tr th:only-of-type {\n",
              "        vertical-align: middle;\n",
              "    }\n",
              "\n",
              "    .dataframe tbody tr th {\n",
              "        vertical-align: top;\n",
              "    }\n",
              "\n",
              "    .dataframe thead th {\n",
              "        text-align: right;\n",
              "    }\n",
              "</style>\n",
              "<table border=\"1\" class=\"dataframe\">\n",
              "  <thead>\n",
              "    <tr style=\"text-align: right;\">\n",
              "      <th></th>\n",
              "      <th>value</th>\n",
              "    </tr>\n",
              "  </thead>\n",
              "  <tbody>\n",
              "    <tr>\n",
              "      <th>x</th>\n",
              "      <td>0.0000</td>\n",
              "    </tr>\n",
              "    <tr>\n",
              "      <th>y</th>\n",
              "      <td>1.0000</td>\n",
              "    </tr>\n",
              "    <tr>\n",
              "      <th>angle</th>\n",
              "      <td>45.0000</td>\n",
              "    </tr>\n",
              "    <tr>\n",
              "      <th>speed</th>\n",
              "      <td>40.0000</td>\n",
              "    </tr>\n",
              "    <tr>\n",
              "      <th>mass</th>\n",
              "      <td>0.1450</td>\n",
              "    </tr>\n",
              "    <tr>\n",
              "      <th>diameter</th>\n",
              "      <td>0.0730</td>\n",
              "    </tr>\n",
              "    <tr>\n",
              "      <th>C_d</th>\n",
              "      <td>0.3300</td>\n",
              "    </tr>\n",
              "    <tr>\n",
              "      <th>rho</th>\n",
              "      <td>1.2000</td>\n",
              "    </tr>\n",
              "    <tr>\n",
              "      <th>g</th>\n",
              "      <td>9.8000</td>\n",
              "    </tr>\n",
              "    <tr>\n",
              "      <th>t_end</th>\n",
              "      <td>10.0000</td>\n",
              "    </tr>\n",
              "    <tr>\n",
              "      <th>wall_distance</th>\n",
              "      <td>94.4880</td>\n",
              "    </tr>\n",
              "    <tr>\n",
              "      <th>wall_height</th>\n",
              "      <td>11.2776</td>\n",
              "    </tr>\n",
              "  </tbody>\n",
              "</table>\n",
              "</div>\n",
              "    <div class=\"colab-df-buttons\">\n",
              "\n",
              "  <div class=\"colab-df-container\">\n",
              "    <button class=\"colab-df-convert\" onclick=\"convertToInteractive('df-147f632e-12e5-4f91-ac67-a2b4867a3fc7')\"\n",
              "            title=\"Convert this dataframe to an interactive table.\"\n",
              "            style=\"display:none;\">\n",
              "\n",
              "  <svg xmlns=\"http://www.w3.org/2000/svg\" height=\"24px\" viewBox=\"0 -960 960 960\">\n",
              "    <path d=\"M120-120v-720h720v720H120Zm60-500h600v-160H180v160Zm220 220h160v-160H400v160Zm0 220h160v-160H400v160ZM180-400h160v-160H180v160Zm440 0h160v-160H620v160ZM180-180h160v-160H180v160Zm440 0h160v-160H620v160Z\"/>\n",
              "  </svg>\n",
              "    </button>\n",
              "\n",
              "  <style>\n",
              "    .colab-df-container {\n",
              "      display:flex;\n",
              "      gap: 12px;\n",
              "    }\n",
              "\n",
              "    .colab-df-convert {\n",
              "      background-color: #E8F0FE;\n",
              "      border: none;\n",
              "      border-radius: 50%;\n",
              "      cursor: pointer;\n",
              "      display: none;\n",
              "      fill: #1967D2;\n",
              "      height: 32px;\n",
              "      padding: 0 0 0 0;\n",
              "      width: 32px;\n",
              "    }\n",
              "\n",
              "    .colab-df-convert:hover {\n",
              "      background-color: #E2EBFA;\n",
              "      box-shadow: 0px 1px 2px rgba(60, 64, 67, 0.3), 0px 1px 3px 1px rgba(60, 64, 67, 0.15);\n",
              "      fill: #174EA6;\n",
              "    }\n",
              "\n",
              "    .colab-df-buttons div {\n",
              "      margin-bottom: 4px;\n",
              "    }\n",
              "\n",
              "    [theme=dark] .colab-df-convert {\n",
              "      background-color: #3B4455;\n",
              "      fill: #D2E3FC;\n",
              "    }\n",
              "\n",
              "    [theme=dark] .colab-df-convert:hover {\n",
              "      background-color: #434B5C;\n",
              "      box-shadow: 0px 1px 3px 1px rgba(0, 0, 0, 0.15);\n",
              "      filter: drop-shadow(0px 1px 2px rgba(0, 0, 0, 0.3));\n",
              "      fill: #FFFFFF;\n",
              "    }\n",
              "  </style>\n",
              "\n",
              "    <script>\n",
              "      const buttonEl =\n",
              "        document.querySelector('#df-147f632e-12e5-4f91-ac67-a2b4867a3fc7 button.colab-df-convert');\n",
              "      buttonEl.style.display =\n",
              "        google.colab.kernel.accessAllowed ? 'block' : 'none';\n",
              "\n",
              "      async function convertToInteractive(key) {\n",
              "        const element = document.querySelector('#df-147f632e-12e5-4f91-ac67-a2b4867a3fc7');\n",
              "        const dataTable =\n",
              "          await google.colab.kernel.invokeFunction('convertToInteractive',\n",
              "                                                    [key], {});\n",
              "        if (!dataTable) return;\n",
              "\n",
              "        const docLinkHtml = 'Like what you see? Visit the ' +\n",
              "          '<a target=\"_blank\" href=https://colab.research.google.com/notebooks/data_table.ipynb>data table notebook</a>'\n",
              "          + ' to learn more about interactive tables.';\n",
              "        element.innerHTML = '';\n",
              "        dataTable['output_type'] = 'display_data';\n",
              "        await google.colab.output.renderOutput(dataTable, element);\n",
              "        const docLink = document.createElement('div');\n",
              "        docLink.innerHTML = docLinkHtml;\n",
              "        element.appendChild(docLink);\n",
              "      }\n",
              "    </script>\n",
              "  </div>\n",
              "\n",
              "\n",
              "<div id=\"df-11b7f45a-96c1-4dfc-ba15-181505077c6e\">\n",
              "  <button class=\"colab-df-quickchart\" onclick=\"quickchart('df-11b7f45a-96c1-4dfc-ba15-181505077c6e')\"\n",
              "            title=\"Suggest charts\"\n",
              "            style=\"display:none;\">\n",
              "\n",
              "<svg xmlns=\"http://www.w3.org/2000/svg\" height=\"24px\"viewBox=\"0 0 24 24\"\n",
              "     width=\"24px\">\n",
              "    <g>\n",
              "        <path d=\"M19 3H5c-1.1 0-2 .9-2 2v14c0 1.1.9 2 2 2h14c1.1 0 2-.9 2-2V5c0-1.1-.9-2-2-2zM9 17H7v-7h2v7zm4 0h-2V7h2v10zm4 0h-2v-4h2v4z\"/>\n",
              "    </g>\n",
              "</svg>\n",
              "  </button>\n",
              "\n",
              "<style>\n",
              "  .colab-df-quickchart {\n",
              "      --bg-color: #E8F0FE;\n",
              "      --fill-color: #1967D2;\n",
              "      --hover-bg-color: #E2EBFA;\n",
              "      --hover-fill-color: #174EA6;\n",
              "      --disabled-fill-color: #AAA;\n",
              "      --disabled-bg-color: #DDD;\n",
              "  }\n",
              "\n",
              "  [theme=dark] .colab-df-quickchart {\n",
              "      --bg-color: #3B4455;\n",
              "      --fill-color: #D2E3FC;\n",
              "      --hover-bg-color: #434B5C;\n",
              "      --hover-fill-color: #FFFFFF;\n",
              "      --disabled-bg-color: #3B4455;\n",
              "      --disabled-fill-color: #666;\n",
              "  }\n",
              "\n",
              "  .colab-df-quickchart {\n",
              "    background-color: var(--bg-color);\n",
              "    border: none;\n",
              "    border-radius: 50%;\n",
              "    cursor: pointer;\n",
              "    display: none;\n",
              "    fill: var(--fill-color);\n",
              "    height: 32px;\n",
              "    padding: 0;\n",
              "    width: 32px;\n",
              "  }\n",
              "\n",
              "  .colab-df-quickchart:hover {\n",
              "    background-color: var(--hover-bg-color);\n",
              "    box-shadow: 0 1px 2px rgba(60, 64, 67, 0.3), 0 1px 3px 1px rgba(60, 64, 67, 0.15);\n",
              "    fill: var(--button-hover-fill-color);\n",
              "  }\n",
              "\n",
              "  .colab-df-quickchart-complete:disabled,\n",
              "  .colab-df-quickchart-complete:disabled:hover {\n",
              "    background-color: var(--disabled-bg-color);\n",
              "    fill: var(--disabled-fill-color);\n",
              "    box-shadow: none;\n",
              "  }\n",
              "\n",
              "  .colab-df-spinner {\n",
              "    border: 2px solid var(--fill-color);\n",
              "    border-color: transparent;\n",
              "    border-bottom-color: var(--fill-color);\n",
              "    animation:\n",
              "      spin 1s steps(1) infinite;\n",
              "  }\n",
              "\n",
              "  @keyframes spin {\n",
              "    0% {\n",
              "      border-color: transparent;\n",
              "      border-bottom-color: var(--fill-color);\n",
              "      border-left-color: var(--fill-color);\n",
              "    }\n",
              "    20% {\n",
              "      border-color: transparent;\n",
              "      border-left-color: var(--fill-color);\n",
              "      border-top-color: var(--fill-color);\n",
              "    }\n",
              "    30% {\n",
              "      border-color: transparent;\n",
              "      border-left-color: var(--fill-color);\n",
              "      border-top-color: var(--fill-color);\n",
              "      border-right-color: var(--fill-color);\n",
              "    }\n",
              "    40% {\n",
              "      border-color: transparent;\n",
              "      border-right-color: var(--fill-color);\n",
              "      border-top-color: var(--fill-color);\n",
              "    }\n",
              "    60% {\n",
              "      border-color: transparent;\n",
              "      border-right-color: var(--fill-color);\n",
              "    }\n",
              "    80% {\n",
              "      border-color: transparent;\n",
              "      border-right-color: var(--fill-color);\n",
              "      border-bottom-color: var(--fill-color);\n",
              "    }\n",
              "    90% {\n",
              "      border-color: transparent;\n",
              "      border-bottom-color: var(--fill-color);\n",
              "    }\n",
              "  }\n",
              "</style>\n",
              "\n",
              "  <script>\n",
              "    async function quickchart(key) {\n",
              "      const quickchartButtonEl =\n",
              "        document.querySelector('#' + key + ' button');\n",
              "      quickchartButtonEl.disabled = true;  // To prevent multiple clicks.\n",
              "      quickchartButtonEl.classList.add('colab-df-spinner');\n",
              "      try {\n",
              "        const charts = await google.colab.kernel.invokeFunction(\n",
              "            'suggestCharts', [key], {});\n",
              "      } catch (error) {\n",
              "        console.error('Error during call to suggestCharts:', error);\n",
              "      }\n",
              "      quickchartButtonEl.classList.remove('colab-df-spinner');\n",
              "      quickchartButtonEl.classList.add('colab-df-quickchart-complete');\n",
              "    }\n",
              "    (() => {\n",
              "      let quickchartButtonEl =\n",
              "        document.querySelector('#df-11b7f45a-96c1-4dfc-ba15-181505077c6e button');\n",
              "      quickchartButtonEl.style.display =\n",
              "        google.colab.kernel.accessAllowed ? 'block' : 'none';\n",
              "    })();\n",
              "  </script>\n",
              "</div>\n",
              "    </div>\n",
              "  </div>\n"
            ]
          },
          "metadata": {},
          "execution_count": 7
        }
      ]
    },
    {
      "cell_type": "code",
      "source": [
        "def range_func(angle, params):\n",
        "    params = params.set(angle=angle)\n",
        "    system = make_system(params)\n",
        "    results, details = run_solve_ivp(system, slope_func,\n",
        "                                     events=event_func)\n",
        "    x_dist = results.iloc[-1].x\n",
        "    print(angle, x_dist)\n",
        "    return x_dist"
      ],
      "metadata": {
        "id": "TGraKFMkcXz1"
      },
      "execution_count": 8,
      "outputs": []
    },
    {
      "cell_type": "code",
      "source": [
        "range_func(45, params)"
      ],
      "metadata": {
        "colab": {
          "base_uri": "https://localhost:8080/"
        },
        "id": "3shP7kVNcaN-",
        "outputId": "2aaac15c-3066-4c11-b211-8a38df6d3732"
      },
      "execution_count": 9,
      "outputs": [
        {
          "output_type": "stream",
          "name": "stdout",
          "text": [
            "45 99.31829628352207\n"
          ]
        },
        {
          "output_type": "execute_result",
          "data": {
            "text/plain": [
              "99.31829628352207"
            ]
          },
          "metadata": {},
          "execution_count": 9
        }
      ]
    },
    {
      "cell_type": "code",
      "source": [
        "angles = linspace(20, 80, 21)\n",
        "sweep = SweepSeries()\n",
        "\n",
        "for angle in angles:\n",
        "    x_dist = range_func(angle, params)\n",
        "    sweep[angle] = x_dist"
      ],
      "metadata": {
        "colab": {
          "base_uri": "https://localhost:8080/"
        },
        "id": "z5qcLkcFca01",
        "outputId": "ecf67322-9520-48e8-a678-e2f88bc9e32c"
      },
      "execution_count": 10,
      "outputs": [
        {
          "output_type": "stream",
          "name": "stdout",
          "text": [
            "20.0 78.09741067882733\n",
            "23.0 84.11542610650983\n",
            "26.0 89.13192412363966\n",
            "29.0 93.17466724082834\n",
            "32.0 96.27134737391354\n",
            "35.0 98.44725560273994\n",
            "38.0 99.72474586365274\n",
            "41.0 100.12347299697635\n",
            "44.0 99.66100302635328\n",
            "47.0 98.35354763684825\n",
            "50.0 96.21673516565134\n",
            "53.0 93.26623796736267\n",
            "56.0 89.51751617672976\n",
            "59.0 84.98724481958087\n",
            "62.0 79.69434524339994\n",
            "65.0 73.66129770133256\n",
            "68.0 66.91470886279748\n",
            "71.0 59.482694929397475\n",
            "74.0 51.402871099404315\n",
            "77.0 42.72047925533483\n",
            "80.0 33.48437980813934\n"
          ]
        }
      ]
    },
    {
      "cell_type": "code",
      "source": [
        "sweep.plot()\n",
        "\n",
        "decorate(xlabel='Launch angle (degrees)',\n",
        "         ylabel='Range (m)')"
      ],
      "metadata": {
        "colab": {
          "base_uri": "https://localhost:8080/",
          "height": 309
        },
        "id": "BLMYXF17ccMY",
        "outputId": "131a0854-904b-4bf8-8d5a-2d3b32751b48"
      },
      "execution_count": 11,
      "outputs": [
        {
          "output_type": "display_data",
          "data": {
            "text/plain": [
              "<Figure size 450x300 with 1 Axes>"
            ],
            "image/png": "[encoded data removed]"
          },
          "metadata": {}
        }
      ]
    },
    {
      "cell_type": "code",
      "source": [
        "res = maximize_scalar(range_func, params, bounds=[0, 90])"
      ],
      "metadata": {
        "colab": {
          "base_uri": "https://localhost:8080/"
        },
        "id": "833ZItJycc-2",
        "outputId": "363489eb-66cd-4847-9630-e96903231489"
      },
      "execution_count": 12,
      "outputs": [
        {
          "output_type": "stream",
          "name": "stdout",
          "text": [
            "0 17.468795355645696\n",
            "34.37694101250946 98.06996498016366\n",
            "55.62305898749054 90.03182421721928\n",
            "21.246117974981075 80.72039493627986\n",
            "41.173855871044005 100.1200188931698\n",
            "40.980120907838035 100.12368377099199\n",
            "40.882137319070246 100.1241700443184\n",
            "40.87925420124324 100.12417043309694\n",
            "40.87928713865314 100.12417043314977\n",
            "40.879291078324286 100.12417043314917\n",
            "40.879283198981994 100.12417043314895\n"
          ]
        }
      ]
    },
    {
      "cell_type": "code",
      "source": [
        "res"
      ],
      "metadata": {
        "colab": {
          "base_uri": "https://localhost:8080/"
        },
        "id": "hAtbuabhcd_e",
        "outputId": "8da0df6e-277d-48eb-b408-79b46be80e42"
      },
      "execution_count": 13,
      "outputs": [
        {
          "output_type": "execute_result",
          "data": {
            "text/plain": [
              " message: Solution found.\n",
              " success: True\n",
              "  status: 0\n",
              "     fun: 100.12417043314977\n",
              "       x: 40.87928713865314\n",
              "     nit: 10\n",
              "    nfev: 10"
            ]
          },
          "metadata": {},
          "execution_count": 13
        }
      ]
    },
    {
      "cell_type": "code",
      "source": [
        "res.x, res.fun"
      ],
      "metadata": {
        "colab": {
          "base_uri": "https://localhost:8080/"
        },
        "id": "Vflly7abce8X",
        "outputId": "7abd7edd-d071-454d-f34a-c85549628df4"
      },
      "execution_count": 14,
      "outputs": [
        {
          "output_type": "execute_result",
          "data": {
            "text/plain": [
              "(40.87928713865314, 100.12417043314977)"
            ]
          },
          "metadata": {},
          "execution_count": 14
        }
      ]
    },
    {
      "cell_type": "code",
      "source": [
        "def event_func(t, state, system):\n",
        "    x, y, vx, vy = state\n",
        "    return x - system.wall_distance"
      ],
      "metadata": {
        "id": "PMBCWX_3cjxW"
      },
      "execution_count": 15,
      "outputs": []
    },
    {
      "cell_type": "code",
      "source": [
        "system = make_system(params)\n",
        "event_func(0, system.init, system)"
      ],
      "metadata": {
        "colab": {
          "base_uri": "https://localhost:8080/"
        },
        "id": "D9IuTKBBclEg",
        "outputId": "baca0495-2fa6-4e5d-9ded-d0bb143263e7"
      },
      "execution_count": 16,
      "outputs": [
        {
          "output_type": "execute_result",
          "data": {
            "text/plain": [
              "-94.48799999999999"
            ]
          },
          "metadata": {},
          "execution_count": 16
        }
      ]
    },
    {
      "cell_type": "code",
      "source": [
        "def height_func(angle, params):\n",
        "    params = params.set(angle=angle)\n",
        "    system = make_system(params)\n",
        "\n",
        "    results, details = run_solve_ivp(system, slope_func,\n",
        "                                     events=event_func)\n",
        "    height = results.iloc[-1].y\n",
        "    return height"
      ],
      "metadata": {
        "id": "i2xBP4n6cmMe"
      },
      "execution_count": 17,
      "outputs": []
    },
    {
      "cell_type": "code",
      "source": [
        "height_func(40, params)"
      ],
      "metadata": {
        "colab": {
          "base_uri": "https://localhost:8080/"
        },
        "id": "oKE6S-5-cnbe",
        "outputId": "8a0ef9c4-8995-4074-be1c-f7d76a15351d"
      },
      "execution_count": 18,
      "outputs": [
        {
          "output_type": "execute_result",
          "data": {
            "text/plain": [
              "6.661045303535705"
            ]
          },
          "metadata": {},
          "execution_count": 18
        }
      ]
    },
    {
      "cell_type": "code",
      "source": [
        "res = maximize_scalar(height_func, params, bounds=[0, 90])\n",
        "res"
      ],
      "metadata": {
        "colab": {
          "base_uri": "https://localhost:8080/"
        },
        "id": "nFkncwmOcoyf",
        "outputId": "6141191a-f015-475c-8181-c2d2550dbfa5"
      },
      "execution_count": 19,
      "outputs": [
        {
          "output_type": "execute_result",
          "data": {
            "text/plain": [
              " message: Solution found.\n",
              " success: True\n",
              "  status: 0\n",
              "     fun: 7.217049532932801\n",
              "       x: 43.105080979149434\n",
              "     nit: 13\n",
              "    nfev: 13"
            ]
          },
          "metadata": {},
          "execution_count": 19
        }
      ]
    },
    {
      "cell_type": "code",
      "source": [
        "res.x, res.fun"
      ],
      "metadata": {
        "colab": {
          "base_uri": "https://localhost:8080/"
        },
        "id": "dKuRf2Ancpsp",
        "outputId": "410f1a8d-3f43-4c4d-f9a4-0a27e1e42af5"
      },
      "execution_count": 20,
      "outputs": [
        {
          "output_type": "execute_result",
          "data": {
            "text/plain": [
              "(43.105080979149434, 7.217049532932801)"
            ]
          },
          "metadata": {},
          "execution_count": 20
        }
      ]
    },
    {
      "cell_type": "code",
      "source": [
        "def error_func(speed, params):\n",
        "    params = params.set(speed=speed)\n",
        "    print(params.speed)\n",
        "    res = maximize_scalar(height_func, params, bounds=[0, 90])\n",
        "    return res.fun - params.wall_height"
      ],
      "metadata": {
        "id": "7Z3grWagcqz-"
      },
      "execution_count": 21,
      "outputs": []
    },
    {
      "cell_type": "code",
      "source": [
        "error_func(40, params)"
      ],
      "metadata": {
        "colab": {
          "base_uri": "https://localhost:8080/"
        },
        "id": "sHkpkhp6cr8p",
        "outputId": "7d1772b8-e6ed-4a74-9f43-d00df3a38f69"
      },
      "execution_count": 22,
      "outputs": [
        {
          "output_type": "stream",
          "name": "stdout",
          "text": [
            "40\n"
          ]
        },
        {
          "output_type": "execute_result",
          "data": {
            "text/plain": [
              "-4.060550467067197"
            ]
          },
          "metadata": {},
          "execution_count": 22
        }
      ]
    },
    {
      "cell_type": "code",
      "source": [
        "error_func(50, params)"
      ],
      "metadata": {
        "colab": {
          "base_uri": "https://localhost:8080/"
        },
        "id": "TL5DcQo8ctTH",
        "outputId": "8cb2bd8f-5c7f-409f-addc-96d8e8d91406"
      },
      "execution_count": 23,
      "outputs": [
        {
          "output_type": "stream",
          "name": "stdout",
          "text": [
            "50\n"
          ]
        },
        {
          "output_type": "execute_result",
          "data": {
            "text/plain": [
              "30.230189540329683"
            ]
          },
          "metadata": {},
          "execution_count": 23
        }
      ]
    },
    {
      "cell_type": "code",
      "source": [
        "bracket = [30, 50]\n",
        "res = root_scalar(error_func, params, bracket=bracket)"
      ],
      "metadata": {
        "colab": {
          "base_uri": "https://localhost:8080/"
        },
        "id": "680K33vWcuwB",
        "outputId": "798c37dd-cfc5-4b68-cad3-a623027d8f92"
      },
      "execution_count": 24,
      "outputs": [
        {
          "output_type": "stream",
          "name": "stdout",
          "text": [
            "30\n",
            "30.0\n",
            "50.0\n",
            "42.95327159575888\n",
            "41.030931458411445\n",
            "41.039294634028856\n",
            "41.037242669296155\n"
          ]
        }
      ]
    },
    {
      "cell_type": "code",
      "source": [
        "res"
      ],
      "metadata": {
        "colab": {
          "base_uri": "https://localhost:8080/"
        },
        "id": "2WQ2hDs-cv5v",
        "outputId": "7ac74eaf-917e-432c-a0d3-f60a59448df5"
      },
      "execution_count": 25,
      "outputs": [
        {
          "output_type": "execute_result",
          "data": {
            "text/plain": [
              "      converged: True\n",
              "           flag: converged\n",
              " function_calls: 6\n",
              "     iterations: 5\n",
              "           root: 41.039294634028856"
            ]
          },
          "metadata": {},
          "execution_count": 25
        }
      ]
    },
    {
      "cell_type": "code",
      "source": [
        "min_speed = res.root\n",
        "min_speed"
      ],
      "metadata": {
        "colab": {
          "base_uri": "https://localhost:8080/"
        },
        "id": "Bvi4SSWacxHt",
        "outputId": "d9f2f30b-2318-4797-8090-bd948e2b3649"
      },
      "execution_count": 26,
      "outputs": [
        {
          "output_type": "execute_result",
          "data": {
            "text/plain": [
              "41.039294634028856"
            ]
          },
          "metadata": {},
          "execution_count": 26
        }
      ]
    },
    {
      "cell_type": "code",
      "source": [
        "error_func(min_speed, params)"
      ],
      "metadata": {
        "colab": {
          "base_uri": "https://localhost:8080/"
        },
        "id": "v5-LI1XAcyRe",
        "outputId": "cd84f005-2ece-4d26-82a2-3f941e3ec165"
      },
      "execution_count": 27,
      "outputs": [
        {
          "output_type": "stream",
          "name": "stdout",
          "text": [
            "41.039294634028856\n"
          ]
        },
        {
          "output_type": "execute_result",
          "data": {
            "text/plain": [
              "0.0010039392295357885"
            ]
          },
          "metadata": {},
          "execution_count": 27
        }
      ]
    },
    {
      "cell_type": "markdown",
      "source": [
        "**MODIFIED**"
      ],
      "metadata": {
        "id": "Ou_tPdAXc8Eu"
      }
    },
    {
      "cell_type": "markdown",
      "source": [
        "Problem Statement:\n",
        "You are tasked with designing a small catapult that needs to launch a projectile to hit a target exactly 100 meters away. The launch angle of the catapult is fixed at 45 degrees. Your goal is to find the minimum launch speed required for the projectile to reach this distance."
      ],
      "metadata": {
        "id": "bMwVUkfUdBj3"
      }
    },
    {
      "cell_type": "code",
      "source": [
        "from scipy.integrate import solve_ivp\n",
        "from scipy.optimize import root_scalar\n",
        "import numpy as np\n",
        "\n",
        "g = 9.81\n",
        "\n",
        "def projectile_motion(t, state):\n",
        "    x, y, vx, vy = state\n",
        "    return vx, vy, 0, -g\n",
        "\n",
        "def event_func(t, state):\n",
        "    _, y, _, _ = state\n",
        "    return y\n",
        "\n",
        "event_func.terminal = True\n",
        "\n",
        "def make_system(speed, angle):\n",
        "    angle_rad = np.radians(angle)\n",
        "\n",
        "    init = (0, 0, speed * np.cos(angle_rad), speed * np.sin(angle_rad))\n",
        "\n",
        "    return {\n",
        "        'init': init,\n",
        "        't_end': 10,\n",
        "        'events': event_func\n",
        "    }\n",
        "\n",
        "def distance_func(speed):\n",
        "    system = make_system(speed, 45)\n",
        "    t_eval = np.linspace(0, system['t_end'], 100)\n",
        "    sol = solve_ivp(projectile_motion, [0, system['t_end']], system['init'],\n",
        "                    t_eval=t_eval, events=system['events'])\n",
        "\n",
        "    x, _, _, _ = sol.y\n",
        "    return x[-1]\n",
        "\n",
        "test_speed = 20\n",
        "test_distance = distance_func(test_speed)\n",
        "test_distance\n"
      ],
      "metadata": {
        "colab": {
          "base_uri": "https://localhost:8080/"
        },
        "id": "oWV5ATTbf9mX",
        "outputId": "95b43bdb-b946-4a7c-af11-83fda0ae6c53"
      },
      "execution_count": 29,
      "outputs": [
        {
          "output_type": "execute_result",
          "data": {
            "text/plain": [
              "0.0"
            ]
          },
          "metadata": {},
          "execution_count": 29
        }
      ]
    },
    {
      "cell_type": "markdown",
      "source": [
        "It seems that the projectile did not travel any horizontal distance with the initial test speed of 20 m/s. This might be due to the simulation stopping immediately, possibly because the projectile's initial vertical position is set to 0, causing the event function to trigger instantly. Let's adjust the event function to only trigger when the projectile's vertical position (y) decreases below a small threshold above 0 (to account for numerical precision), and re-run the simulation."
      ],
      "metadata": {
        "id": "LQEt6OLSggYP"
      }
    },
    {
      "cell_type": "code",
      "source": [
        "def event_func(t, state):\n",
        "    _, y, _, _ = state\n",
        "    return y - 0.01\n",
        "\n",
        "test_distance = distance_func(test_speed)\n",
        "test_distance\n"
      ],
      "metadata": {
        "colab": {
          "base_uri": "https://localhost:8080/"
        },
        "id": "TCVfFlRcgSAG",
        "outputId": "49dd3da9-26ce-4f9b-949b-4d011215ec36"
      },
      "execution_count": 30,
      "outputs": [
        {
          "output_type": "execute_result",
          "data": {
            "text/plain": [
              "141.4213562373095"
            ]
          },
          "metadata": {},
          "execution_count": 30
        }
      ]
    },
    {
      "cell_type": "markdown",
      "source": [
        "With the adjusted event function, the projectile traveled approximately 141.42 meters when launched at a speed of 20 m/s. This distance is greater than our target of 100 meters. Now, we will use a root-finding algorithm to find the minimum speed required for the projectile to travel exactly 100 meters.\n",
        "\n",
        "Let's define the error function for the root-finding algorithm and use root_scalar to find the optimal launch speed."
      ],
      "metadata": {
        "id": "JjixQxDEgcR2"
      }
    },
    {
      "cell_type": "code",
      "source": [
        "def error_func(speed):\n",
        "    return distance_func(speed) - 100\n",
        "\n",
        "result = root_scalar(error_func, bracket=[0, 50])\n",
        "min_speed = result.root if result.converged else None\n",
        "min_speed, result.converged\n"
      ],
      "metadata": {
        "colab": {
          "base_uri": "https://localhost:8080/"
        },
        "id": "vh1Eq1DvgUkv",
        "outputId": "f0144c5b-90b4-4f26-fd5f-6a118373285c"
      },
      "execution_count": 31,
      "outputs": [
        {
          "output_type": "execute_result",
          "data": {
            "text/plain": [
              "(14.14213562373094, True)"
            ]
          },
          "metadata": {},
          "execution_count": 31
        }
      ]
    },
    {
      "cell_type": "markdown",
      "source": [
        "The minimum speed required to launch a projectile 100 meters at a 45-degree angle is approximately 14.14 meters per second. The root-finding algorithm successfully converged to this solution."
      ],
      "metadata": {
        "id": "9RyLxD52gY2N"
      }
    }
  ]
}