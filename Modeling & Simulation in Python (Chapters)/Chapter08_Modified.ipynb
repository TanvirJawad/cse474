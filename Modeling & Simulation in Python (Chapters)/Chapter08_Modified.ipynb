{
  "nbformat": 4,
  "nbformat_minor": 0,
  "metadata": {
    "colab": {
      "provenance": []
    },
    "kernelspec": {
      "name": "python3",
      "display_name": "Python 3"
    },
    "language_info": {
      "name": "python"
    }
  },
  "cells": [
    {
      "cell_type": "markdown",
      "source": [
        "Md. Tanvir Jawad <br>ID: 21101221"
      ],
      "metadata": {
        "id": "m11NsEICcNTI"
      }
    },
    {
      "cell_type": "code",
      "execution_count": 1,
      "metadata": {
        "id": "kwlxdwQ8ah2T"
      },
      "outputs": [],
      "source": [
        "try:\n",
        "    import pint\n",
        "except ImportError:\n",
        "    !pip install pint"
      ]
    },
    {
      "cell_type": "code",
      "source": [
        "from os.path import basename, exists\n",
        "\n",
        "def download(url):\n",
        "    filename = basename(url)\n",
        "    if not exists(filename):\n",
        "        from urllib.request import urlretrieve\n",
        "        local, _ = urlretrieve(url, filename)\n",
        "        print('Downloaded ' + local)\n",
        "\n",
        "download('https://github.com/AllenDowney/ModSimPy/raw/master/' +\n",
        "         'modsim.py')"
      ],
      "metadata": {
        "id": "kYLVaJyCezki"
      },
      "execution_count": 2,
      "outputs": []
    },
    {
      "cell_type": "code",
      "source": [
        "from modsim import *"
      ],
      "metadata": {
        "id": "lC6WdLhze19j"
      },
      "execution_count": 3,
      "outputs": []
    },
    {
      "cell_type": "code",
      "source": [
        "download('https://raw.githubusercontent.com/AllenDowney/' +\n",
        "         'ModSimPy/master/data/World_population_estimates.html')"
      ],
      "metadata": {
        "id": "J4Wa6nNPe9Yc"
      },
      "execution_count": 4,
      "outputs": []
    },
    {
      "cell_type": "code",
      "source": [
        "from pandas import read_html\n",
        "\n",
        "filename = 'World_population_estimates.html'\n",
        "tables = read_html(filename, header=0, index_col=0, decimal='M')\n",
        "table2 = tables[2]\n",
        "table2.columns = ['census', 'prb', 'un', 'maddison', 'hyde', 'tanton', 'biraben', 'mj', 'thomlinson', 'durand', 'clark']"
      ],
      "metadata": {
        "id": "FpjXLYEDfAwx"
      },
      "execution_count": 5,
      "outputs": []
    },
    {
      "cell_type": "code",
      "source": [
        "un = table2.un / 1e9\n",
        "census = table2.census / 1e9"
      ],
      "metadata": {
        "id": "c-iA_ubcfDF6"
      },
      "execution_count": 6,
      "outputs": []
    },
    {
      "cell_type": "code",
      "source": [
        "download('https://github.com/AllenDowney/ModSimPy/raw/master/' +'chap06.py')"
      ],
      "metadata": {
        "id": "pHC9v3RWfFwd"
      },
      "execution_count": 7,
      "outputs": []
    },
    {
      "cell_type": "code",
      "source": [
        "from chap06 import run_simulation\n",
        "\n",
        "def plot_estimates():\n",
        "    census.plot(style=':', label='US Census')\n",
        "    un.plot(style='--', label='UN DESA')\n",
        "    decorate(xlabel='Year', ylabel='World population (billions)')"
      ],
      "metadata": {
        "id": "7oy1rLgMfHms"
      },
      "execution_count": 8,
      "outputs": []
    },
    {
      "cell_type": "code",
      "source": [
        "def growth_func_quad(t, pop, system):\n",
        "    return system.alpha * pop + system.beta * pop**2"
      ],
      "metadata": {
        "id": "2E7kGDtyhDaK"
      },
      "execution_count": 9,
      "outputs": []
    },
    {
      "cell_type": "code",
      "source": [
        "t_0 = census.index[0]\n",
        "p_0 = census[t_0]\n",
        "\n",
        "system = System(t_0 = t_0,\n",
        "                p_0 = p_0,\n",
        "                alpha = 25 / 1000,\n",
        "                beta = -1.8 / 1000,\n",
        "                t_end = 2100)"
      ],
      "metadata": {
        "id": "Hl7Eky7Fjqe6"
      },
      "execution_count": 10,
      "outputs": []
    },
    {
      "cell_type": "code",
      "source": [
        "results = run_simulation(system, growth_func_quad)"
      ],
      "metadata": {
        "id": "UycRlW2Wj_OZ"
      },
      "execution_count": 18,
      "outputs": []
    },
    {
      "cell_type": "code",
      "source": [
        "from sympy import symbols, Function, diff, Eq, dsolve, solve\n",
        "\n",
        "t = symbols('t')\n",
        "b = Function('b')(t)\n",
        "alpha, beta, b_0 = symbols('alpha beta b_0')"
      ],
      "metadata": {
        "id": "u6sODjvyiAdJ"
      },
      "execution_count": 11,
      "outputs": []
    },
    {
      "cell_type": "code",
      "source": [
        "eq_bacteria = Eq(diff(b, t), alpha * b + beta * b**2)\n"
      ],
      "metadata": {
        "id": "KE7ZlamliETw"
      },
      "execution_count": 12,
      "outputs": []
    },
    {
      "cell_type": "code",
      "source": [
        "solution_bacteria = dsolve(eq_bacteria, b)\n"
      ],
      "metadata": {
        "id": "Pno5uOEsiISJ"
      },
      "execution_count": 13,
      "outputs": []
    },
    {
      "cell_type": "code",
      "source": [
        "particular_solution_bacteria = solve(solution_bacteria.subs({b.subs(t, 0): b_0}), dict=True)\n",
        "particular_solution_bacteria = particular_solution_bacteria[0]\n"
      ],
      "metadata": {
        "id": "WzzUDPDKiKWI"
      },
      "execution_count": 14,
      "outputs": []
    },
    {
      "cell_type": "code",
      "source": [
        "def growth_rate_func(t):\n",
        "    intercept = 0.02\n",
        "    slope = -0.00021\n",
        "    return intercept + slope * (t - 1970)"
      ],
      "metadata": {
        "id": "eq8oWS_kiP2l"
      },
      "execution_count": 15,
      "outputs": []
    },
    {
      "cell_type": "code",
      "source": [
        "t_0_bacteria = 1960\n",
        "t_end_bacteria = 2100\n",
        "initial_bacterial_count = 21101221\n",
        "b_0_bacteria = initial_bacterial_count\n",
        "\n",
        "system_bacteria = System(t_0=t_0_bacteria, t_end=t_end_bacteria, b_0=b_0_bacteria, alpha_func=growth_rate_func)\n"
      ],
      "metadata": {
        "id": "ShPQNjQbiRF6"
      },
      "execution_count": 16,
      "outputs": []
    },
    {
      "cell_type": "code",
      "source": [
        "# Corrected system_bacteria object with 'b_0_bacteria' for initial bacterial count\n",
        "system_bacteria = System(t_0=t_0_bacteria, t_end=t_end_bacteria, b_0_bacteria=b_0_bacteria, alpha_func=growth_rate_func)\n",
        "\n",
        "# Corrected function name growth_func_bacteria\n",
        "def growth_func_bacteria(t, pop, system):\n",
        "    return system.alpha_func(t) * pop\n",
        "\n",
        "results_bacteria = run_simulation(system_bacteria, growth_func_bacteria)\n"
      ],
      "metadata": {
        "colab": {
          "base_uri": "https://localhost:8080/",
          "height": 345
        },
        "id": "fc20GLzEivwA",
        "outputId": "0c3105fe-e044-4bf5-fad1-9e937a8ad5f5"
      },
      "execution_count": 19,
      "outputs": [
        {
          "output_type": "error",
          "ename": "AttributeError",
          "evalue": "ignored",
          "traceback": [
            "\u001b[0;31m---------------------------------------------------------------------------\u001b[0m",
            "\u001b[0;31mAttributeError\u001b[0m                            Traceback (most recent call last)",
            "\u001b[0;32m<ipython-input-19-df1884912725>\u001b[0m in \u001b[0;36m<cell line: 8>\u001b[0;34m()\u001b[0m\n\u001b[1;32m      6\u001b[0m     \u001b[0;32mreturn\u001b[0m \u001b[0msystem\u001b[0m\u001b[0;34m.\u001b[0m\u001b[0malpha_func\u001b[0m\u001b[0;34m(\u001b[0m\u001b[0mt\u001b[0m\u001b[0;34m)\u001b[0m \u001b[0;34m*\u001b[0m \u001b[0mpop\u001b[0m\u001b[0;34m\u001b[0m\u001b[0;34m\u001b[0m\u001b[0m\n\u001b[1;32m      7\u001b[0m \u001b[0;34m\u001b[0m\u001b[0m\n\u001b[0;32m----> 8\u001b[0;31m \u001b[0mresults_bacteria\u001b[0m \u001b[0;34m=\u001b[0m \u001b[0mrun_simulation\u001b[0m\u001b[0;34m(\u001b[0m\u001b[0msystem_bacteria\u001b[0m\u001b[0;34m,\u001b[0m \u001b[0mgrowth_func_bacteria\u001b[0m\u001b[0;34m)\u001b[0m\u001b[0;34m\u001b[0m\u001b[0;34m\u001b[0m\u001b[0m\n\u001b[0m",
            "\u001b[0;32m/content/chap06.py\u001b[0m in \u001b[0;36mrun_simulation\u001b[0;34m(system, growth_func)\u001b[0m\n\u001b[1;32m      3\u001b[0m \u001b[0;32mdef\u001b[0m \u001b[0mrun_simulation\u001b[0m\u001b[0;34m(\u001b[0m\u001b[0msystem\u001b[0m\u001b[0;34m,\u001b[0m \u001b[0mgrowth_func\u001b[0m\u001b[0;34m)\u001b[0m\u001b[0;34m:\u001b[0m\u001b[0;34m\u001b[0m\u001b[0;34m\u001b[0m\u001b[0m\n\u001b[1;32m      4\u001b[0m     \u001b[0mresults\u001b[0m \u001b[0;34m=\u001b[0m \u001b[0mTimeSeries\u001b[0m\u001b[0;34m(\u001b[0m\u001b[0;34m)\u001b[0m\u001b[0;34m\u001b[0m\u001b[0;34m\u001b[0m\u001b[0m\n\u001b[0;32m----> 5\u001b[0;31m     \u001b[0mresults\u001b[0m\u001b[0;34m[\u001b[0m\u001b[0msystem\u001b[0m\u001b[0;34m.\u001b[0m\u001b[0mt_0\u001b[0m\u001b[0;34m]\u001b[0m \u001b[0;34m=\u001b[0m \u001b[0msystem\u001b[0m\u001b[0;34m.\u001b[0m\u001b[0mp_0\u001b[0m\u001b[0;34m\u001b[0m\u001b[0;34m\u001b[0m\u001b[0m\n\u001b[0m\u001b[1;32m      6\u001b[0m \u001b[0;34m\u001b[0m\u001b[0m\n\u001b[1;32m      7\u001b[0m     \u001b[0;32mfor\u001b[0m \u001b[0mt\u001b[0m \u001b[0;32min\u001b[0m \u001b[0mrange\u001b[0m\u001b[0;34m(\u001b[0m\u001b[0msystem\u001b[0m\u001b[0;34m.\u001b[0m\u001b[0mt_0\u001b[0m\u001b[0;34m,\u001b[0m \u001b[0msystem\u001b[0m\u001b[0;34m.\u001b[0m\u001b[0mt_end\u001b[0m\u001b[0;34m)\u001b[0m\u001b[0;34m:\u001b[0m\u001b[0;34m\u001b[0m\u001b[0;34m\u001b[0m\u001b[0m\n",
            "\u001b[0;31mAttributeError\u001b[0m: 'System' object has no attribute 'p_0'"
          ]
        }
      ]
    }
  ]
}