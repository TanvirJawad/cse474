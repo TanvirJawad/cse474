{
  "nbformat": 4,
  "nbformat_minor": 0,
  "metadata": {
    "colab": {
      "provenance": []
    },
    "kernelspec": {
      "name": "python3",
      "display_name": "Python 3"
    },
    "language_info": {
      "name": "python"
    }
  },
  "cells": [
    {
      "cell_type": "markdown",
      "source": [
        "Md. Tanvir Jawad <br>ID: 21101221"
      ],
      "metadata": {
        "id": "ZAPgmmg7J893"
      }
    },
    {
      "cell_type": "markdown",
      "source": [
        "Let's create a simulation for fish population growth. Fish population dynamics can be modeled using various approaches, but I'll provide a basic example using a logistic growth model. This model takes into account the carrying capacity of the environment, which limits population growth."
      ],
      "metadata": {
        "id": "sdRi8uTrJ2BA"
      }
    },
    {
      "cell_type": "code",
      "source": [
        "try:\n",
        "    import pint\n",
        "except ImportError:\n",
        "    !pip install pint"
      ],
      "metadata": {
        "colab": {
          "base_uri": "https://localhost:8080/"
        },
        "id": "tNenAwXhJ-1_",
        "outputId": "c1273466-099e-4436-d86e-f6983df9a12c"
      },
      "execution_count": 1,
      "outputs": [
        {
          "output_type": "stream",
          "name": "stdout",
          "text": [
            "Collecting pint\n",
            "  Downloading Pint-0.22-py3-none-any.whl (294 kB)\n",
            "\u001b[2K     \u001b[90m━━━━━━━━━━━━━━━━━━━━━━━━━━━━━━━━━━━━━━━━\u001b[0m \u001b[32m294.0/294.0 kB\u001b[0m \u001b[31m4.9 MB/s\u001b[0m eta \u001b[36m0:00:00\u001b[0m\n",
            "\u001b[?25hRequirement already satisfied: typing-extensions in /usr/local/lib/python3.10/dist-packages (from pint) (4.5.0)\n",
            "Installing collected packages: pint\n",
            "Successfully installed pint-0.22\n"
          ]
        }
      ]
    },
    {
      "cell_type": "code",
      "source": [
        "from os.path import basename, exists\n",
        "\n",
        "def download(url):\n",
        "    filename = basename(url)\n",
        "    if not exists(filename):\n",
        "        from urllib.request import urlretrieve\n",
        "        local, _ = urlretrieve(url, filename)\n",
        "        print('Downloaded ' + local)\n",
        "\n",
        "download('https://raw.githubusercontent.com/AllenDowney/' +\n",
        "         'ModSimPy/master/modsim.py')"
      ],
      "metadata": {
        "colab": {
          "base_uri": "https://localhost:8080/"
        },
        "id": "jRYZv85qKDlw",
        "outputId": "55623fd7-8dd7-43ce-c94d-111174c229d5"
      },
      "execution_count": 2,
      "outputs": [
        {
          "output_type": "stream",
          "name": "stdout",
          "text": [
            "Downloaded modsim.py\n"
          ]
        }
      ]
    },
    {
      "cell_type": "code",
      "source": [
        "from modsim import *"
      ],
      "metadata": {
        "id": "wZBWUDh4KFOn"
      },
      "execution_count": 3,
      "outputs": []
    },
    {
      "cell_type": "code",
      "source": [
        "import matplotlib.pyplot as plt\n",
        "\n",
        "fish_population = 100\n",
        "growth_rate = 0.2\n",
        "carrying_capacity = 500\n",
        "population_values = [fish_population]\n",
        "duration = 100\n",
        "for year in range(1, duration + 1):\n",
        "    growth = growth_rate * fish_population * (1 - fish_population / carrying_capacity)\n",
        "    fish_population += growth\n",
        "    population_values.append(fish_population)\n",
        "\n",
        "# Plot the results\n",
        "plt.plot(range(duration + 1), population_values)\n",
        "plt.xlabel('Years')\n",
        "plt.ylabel('Fish Population')\n",
        "plt.title('Fish Population Growth (Logistic Model)')\n",
        "plt.show()"
      ],
      "metadata": {
        "colab": {
          "base_uri": "https://localhost:8080/",
          "height": 310
        },
        "id": "cMAEnc9VKHB4",
        "outputId": "9a7e6507-1687-478b-c250-6e3019587e13"
      },
      "execution_count": 8,
      "outputs": [
        {
          "output_type": "display_data",
          "data": {
            "text/plain": [
              "<Figure size 450x300 with 1 Axes>"
            ],
            "image/png": "[encoded data removed]"
          },
          "metadata": {}
        }
      ]
    }
  ]
}