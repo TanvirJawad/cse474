{
  "nbformat": 4,
  "nbformat_minor": 0,
  "metadata": {
    "colab": {
      "provenance": []
    },
    "kernelspec": {
      "name": "python3",
      "display_name": "Python 3"
    },
    "language_info": {
      "name": "python"
    }
  },
  "cells": [
    {
      "cell_type": "markdown",
      "source": [
        "Md. Tanvir Jawad<br>ID: 21101221"
      ],
      "metadata": {
        "id": "HRnmGkQnFRIT"
      }
    },
    {
      "cell_type": "code",
      "execution_count": 2,
      "metadata": {
        "id": "HfsULuFpFQqf",
        "colab": {
          "base_uri": "https://localhost:8080/"
        },
        "outputId": "8dabdb70-bca4-4b6e-c918-e58ba53ef1eb"
      },
      "outputs": [
        {
          "output_type": "stream",
          "name": "stdout",
          "text": [
            "Downloaded modsim.py\n"
          ]
        }
      ],
      "source": [
        "from os.path import basename, exists\n",
        "\n",
        "def download(url):\n",
        "    filename = basename(url)\n",
        "    if not exists(filename):\n",
        "        from urllib.request import urlretrieve\n",
        "        local, _ = urlretrieve(url, filename)\n",
        "        print('Downloaded ' + local)\n",
        "\n",
        "download('https://raw.githubusercontent.com/AllenDowney/' +\n",
        "         'ModSimPy/master/modsim.py')"
      ]
    },
    {
      "cell_type": "code",
      "source": [
        "from modsim import *"
      ],
      "metadata": {
        "id": "uZoATwDBFWIj"
      },
      "execution_count": 3,
      "outputs": []
    },
    {
      "cell_type": "code",
      "source": [
        "params = Params(mass = 0.0025,diameter = 0.019,rho = 1.2,g = 9.8,v_init = 0,v_term = 18,height = 381,t_end = 30,)"
      ],
      "metadata": {
        "id": "HBGOCGxlFXeK"
      },
      "execution_count": 4,
      "outputs": []
    },
    {
      "cell_type": "code",
      "source": [
        "from numpy import pi\n",
        "\n",
        "def make_system(params):\n",
        "    init = State(y=params.height, v=params.v_init)\n",
        "\n",
        "    area = pi * (params.diameter/2)**2\n",
        "\n",
        "    C_d = (2 * params.mass * params.g /\n",
        "           (params.rho * area * params.v_term**2))\n",
        "\n",
        "    return System(init=init,\n",
        "                  area=area,\n",
        "                  C_d=C_d,\n",
        "                  mass=params.mass,\n",
        "                  rho=params.rho,\n",
        "                  g=params.g,\n",
        "                  t_end=params.t_end)"
      ],
      "metadata": {
        "id": "vVXm6NrcFo7x"
      },
      "execution_count": 5,
      "outputs": []
    },
    {
      "cell_type": "code",
      "source": [
        "system = make_system(params)"
      ],
      "metadata": {
        "id": "kccYR6V3FqYx"
      },
      "execution_count": 6,
      "outputs": []
    },
    {
      "cell_type": "code",
      "source": [
        "system.C_d"
      ],
      "metadata": {
        "colab": {
          "base_uri": "https://localhost:8080/"
        },
        "id": "-nis0ix7FsEy",
        "outputId": "7b6a1906-f01e-4b7f-c222-3a576941b485"
      },
      "execution_count": 7,
      "outputs": [
        {
          "output_type": "execute_result",
          "data": {
            "text/plain": [
              "0.4445009981135434"
            ]
          },
          "metadata": {},
          "execution_count": 7
        }
      ]
    },
    {
      "cell_type": "code",
      "source": [
        "params2 = params.set(v_term=20)"
      ],
      "metadata": {
        "id": "nhDhoPLfFtkx"
      },
      "execution_count": 8,
      "outputs": []
    },
    {
      "cell_type": "code",
      "source": [
        "system2 = make_system(params2)\n",
        "system2.C_d"
      ],
      "metadata": {
        "colab": {
          "base_uri": "https://localhost:8080/"
        },
        "id": "jXjgAa0mFupC",
        "outputId": "e91f7873-4d53-4d4d-e4b5-25c9cfc8ad53"
      },
      "execution_count": 9,
      "outputs": [
        {
          "output_type": "execute_result",
          "data": {
            "text/plain": [
              "0.3600458084719701"
            ]
          },
          "metadata": {},
          "execution_count": 9
        }
      ]
    },
    {
      "cell_type": "code",
      "source": [
        "def slope_func(t, state, system):\n",
        "    y, v = state\n",
        "    rho, C_d, area = system.rho, system.C_d, system.area\n",
        "    mass, g = system.mass, system.g\n",
        "\n",
        "    f_drag = rho * v**2 * C_d * area / 2\n",
        "    a_drag = f_drag / mass\n",
        "\n",
        "    dydt = v\n",
        "    dvdt = -g + a_drag\n",
        "\n",
        "    return dydt, dvdt"
      ],
      "metadata": {
        "id": "SMGlXeLMFvsi"
      },
      "execution_count": 10,
      "outputs": []
    },
    {
      "cell_type": "code",
      "source": [
        "slope_func(0, system.init, system)"
      ],
      "metadata": {
        "colab": {
          "base_uri": "https://localhost:8080/"
        },
        "id": "G5nAL_cZFwxT",
        "outputId": "201730a4-ab71-453b-9339-abee7d958ece"
      },
      "execution_count": 11,
      "outputs": [
        {
          "output_type": "execute_result",
          "data": {
            "text/plain": [
              "(0, -9.8)"
            ]
          },
          "metadata": {},
          "execution_count": 11
        }
      ]
    },
    {
      "cell_type": "code",
      "source": [
        "def event_func(t, state, system):\n",
        "    y, v = state\n",
        "    return y"
      ],
      "metadata": {
        "id": "aTrbHYFeFxgr"
      },
      "execution_count": 12,
      "outputs": []
    },
    {
      "cell_type": "code",
      "source": [
        "results, details = run_solve_ivp(system, slope_func,\n",
        "                                 events=event_func)\n",
        "details.message"
      ],
      "metadata": {
        "colab": {
          "base_uri": "https://localhost:8080/",
          "height": 36
        },
        "id": "q5zWg5WgFy2a",
        "outputId": "414d738d-c2e4-4d07-e99a-b48febbf01c7"
      },
      "execution_count": 13,
      "outputs": [
        {
          "output_type": "execute_result",
          "data": {
            "text/plain": [
              "'A termination event occurred.'"
            ],
            "application/vnd.google.colaboratory.intrinsic+json": {
              "type": "string"
            }
          },
          "metadata": {},
          "execution_count": 13
        }
      ]
    },
    {
      "cell_type": "code",
      "source": [
        "results.tail()"
      ],
      "metadata": {
        "colab": {
          "base_uri": "https://localhost:8080/",
          "height": 206
        },
        "id": "43G1fAkwFztC",
        "outputId": "f55cd128-60da-4dbe-e964-e2ede2e7fcd3"
      },
      "execution_count": 14,
      "outputs": [
        {
          "output_type": "execute_result",
          "data": {
            "text/plain": [
              "                      y          v\n",
              "21.541886  1.614743e+01 -18.001510\n",
              "21.766281  1.211265e+01 -18.006240\n",
              "21.990676  8.076745e+00 -18.009752\n",
              "22.215070  4.039275e+00 -18.011553\n",
              "22.439465  2.131628e-14 -18.011383"
            ],
            "text/html": [
              "\n",
              "  <div id=\"df-7443f363-ec85-42ee-ac07-46ee3e60e432\" class=\"colab-df-container\">\n",
              "    <div>\n",
              "<style scoped>\n",
              "    .dataframe tbody tr th:only-of-type {\n",
              "        vertical-align: middle;\n",
              "    }\n",
              "\n",
              "    .dataframe tbody tr th {\n",
              "        vertical-align: top;\n",
              "    }\n",
              "\n",
              "    .dataframe thead th {\n",
              "        text-align: right;\n",
              "    }\n",
              "</style>\n",
              "<table border=\"1\" class=\"dataframe\">\n",
              "  <thead>\n",
              "    <tr style=\"text-align: right;\">\n",
              "      <th></th>\n",
              "      <th>y</th>\n",
              "      <th>v</th>\n",
              "    </tr>\n",
              "  </thead>\n",
              "  <tbody>\n",
              "    <tr>\n",
              "      <th>21.541886</th>\n",
              "      <td>1.614743e+01</td>\n",
              "      <td>-18.001510</td>\n",
              "    </tr>\n",
              "    <tr>\n",
              "      <th>21.766281</th>\n",
              "      <td>1.211265e+01</td>\n",
              "      <td>-18.006240</td>\n",
              "    </tr>\n",
              "    <tr>\n",
              "      <th>21.990676</th>\n",
              "      <td>8.076745e+00</td>\n",
              "      <td>-18.009752</td>\n",
              "    </tr>\n",
              "    <tr>\n",
              "      <th>22.215070</th>\n",
              "      <td>4.039275e+00</td>\n",
              "      <td>-18.011553</td>\n",
              "    </tr>\n",
              "    <tr>\n",
              "      <th>22.439465</th>\n",
              "      <td>2.131628e-14</td>\n",
              "      <td>-18.011383</td>\n",
              "    </tr>\n",
              "  </tbody>\n",
              "</table>\n",
              "</div>\n",
              "    <div class=\"colab-df-buttons\">\n",
              "      \n",
              "  <div class=\"colab-df-container\">\n",
              "    <button class=\"colab-df-convert\" onclick=\"convertToInteractive('df-7443f363-ec85-42ee-ac07-46ee3e60e432')\"\n",
              "            title=\"Convert this dataframe to an interactive table.\"\n",
              "            style=\"display:none;\">\n",
              "      \n",
              "  <svg xmlns=\"http://www.w3.org/2000/svg\" height=\"24px\" viewBox=\"0 -960 960 960\">\n",
              "    <path d=\"M120-120v-720h720v720H120Zm60-500h600v-160H180v160Zm220 220h160v-160H400v160Zm0 220h160v-160H400v160ZM180-400h160v-160H180v160Zm440 0h160v-160H620v160ZM180-180h160v-160H180v160Zm440 0h160v-160H620v160Z\"/>\n",
              "  </svg>\n",
              "    </button>\n",
              "    \n",
              "  <style>\n",
              "    .colab-df-container {\n",
              "      display:flex;\n",
              "      gap: 12px;\n",
              "    }\n",
              "\n",
              "    .colab-df-convert {\n",
              "      background-color: #E8F0FE;\n",
              "      border: none;\n",
              "      border-radius: 50%;\n",
              "      cursor: pointer;\n",
              "      display: none;\n",
              "      fill: #1967D2;\n",
              "      height: 32px;\n",
              "      padding: 0 0 0 0;\n",
              "      width: 32px;\n",
              "    }\n",
              "\n",
              "    .colab-df-convert:hover {\n",
              "      background-color: #E2EBFA;\n",
              "      box-shadow: 0px 1px 2px rgba(60, 64, 67, 0.3), 0px 1px 3px 1px rgba(60, 64, 67, 0.15);\n",
              "      fill: #174EA6;\n",
              "    }\n",
              "\n",
              "    .colab-df-buttons div {\n",
              "      margin-bottom: 4px;\n",
              "    }\n",
              "\n",
              "    [theme=dark] .colab-df-convert {\n",
              "      background-color: #3B4455;\n",
              "      fill: #D2E3FC;\n",
              "    }\n",
              "\n",
              "    [theme=dark] .colab-df-convert:hover {\n",
              "      background-color: #434B5C;\n",
              "      box-shadow: 0px 1px 3px 1px rgba(0, 0, 0, 0.15);\n",
              "      filter: drop-shadow(0px 1px 2px rgba(0, 0, 0, 0.3));\n",
              "      fill: #FFFFFF;\n",
              "    }\n",
              "  </style>\n",
              "\n",
              "    <script>\n",
              "      const buttonEl =\n",
              "        document.querySelector('#df-7443f363-ec85-42ee-ac07-46ee3e60e432 button.colab-df-convert');\n",
              "      buttonEl.style.display =\n",
              "        google.colab.kernel.accessAllowed ? 'block' : 'none';\n",
              "\n",
              "      async function convertToInteractive(key) {\n",
              "        const element = document.querySelector('#df-7443f363-ec85-42ee-ac07-46ee3e60e432');\n",
              "        const dataTable =\n",
              "          await google.colab.kernel.invokeFunction('convertToInteractive',\n",
              "                                                    [key], {});\n",
              "        if (!dataTable) return;\n",
              "\n",
              "        const docLinkHtml = 'Like what you see? Visit the ' +\n",
              "          '<a target=\"_blank\" href=https://colab.research.google.com/notebooks/data_table.ipynb>data table notebook</a>'\n",
              "          + ' to learn more about interactive tables.';\n",
              "        element.innerHTML = '';\n",
              "        dataTable['output_type'] = 'display_data';\n",
              "        await google.colab.output.renderOutput(dataTable, element);\n",
              "        const docLink = document.createElement('div');\n",
              "        docLink.innerHTML = docLinkHtml;\n",
              "        element.appendChild(docLink);\n",
              "      }\n",
              "    </script>\n",
              "  </div>\n",
              "  \n",
              "    </div>\n",
              "  </div>\n",
              "  "
            ]
          },
          "metadata": {},
          "execution_count": 14
        }
      ]
    },
    {
      "cell_type": "code",
      "source": [
        "t_sidewalk = results.index[-1]\n",
        "t_sidewalk"
      ],
      "metadata": {
        "colab": {
          "base_uri": "https://localhost:8080/"
        },
        "id": "MZBmWKvbF02G",
        "outputId": "14c5f96c-8de1-40b1-fa67-df1b91503576"
      },
      "execution_count": 15,
      "outputs": [
        {
          "output_type": "execute_result",
          "data": {
            "text/plain": [
              "22.439465058044306"
            ]
          },
          "metadata": {},
          "execution_count": 15
        }
      ]
    },
    {
      "cell_type": "code",
      "source": [
        "def plot_position(results):\n",
        "    results.y.plot()\n",
        "\n",
        "    decorate(xlabel='Time (s)',\n",
        "         ylabel='Position (m)')\n",
        "\n",
        "plot_position(results)"
      ],
      "metadata": {
        "colab": {
          "base_uri": "https://localhost:8080/",
          "height": 309
        },
        "id": "kyd9V4jSF1xC",
        "outputId": "bed8b579-ed4a-45c1-ceb6-ddb9784c76a1"
      },
      "execution_count": 16,
      "outputs": [
        {
          "output_type": "display_data",
          "data": {
            "text/plain": [
              "<Figure size 450x300 with 1 Axes>"
            ],
            "image/png": "[encoded data removed]"
          },
          "metadata": {}
        }
      ]
    },
    {
      "cell_type": "code",
      "source": [
        "def plot_velocity(results):\n",
        "\n",
        "    results.v.plot(color='C1', label='v')\n",
        "\n",
        "    decorate(xlabel='Time (s)',\n",
        "             ylabel='Velocity (m/s)')\n",
        "\n",
        "plot_velocity(results)"
      ],
      "metadata": {
        "colab": {
          "base_uri": "https://localhost:8080/",
          "height": 309
        },
        "id": "DecZv3hBF2ti",
        "outputId": "674c4d52-3047-4a18-9433-99d0c9e79a7b"
      },
      "execution_count": 17,
      "outputs": [
        {
          "output_type": "display_data",
          "data": {
            "text/plain": [
              "<Figure size 450x300 with 1 Axes>"
            ],
            "image/png": "[encoded data removed]"
          },
          "metadata": {}
        }
      ]
    },
    {
      "cell_type": "code",
      "source": [
        "params = params.set(v_init=-30)\n",
        "system2 = make_system(params)"
      ],
      "metadata": {
        "id": "xv3IihkFF76j"
      },
      "execution_count": 18,
      "outputs": []
    },
    {
      "cell_type": "code",
      "source": [
        "results2, details2 = run_solve_ivp(system2, slope_func,\n",
        "                                 events=event_func)\n",
        "details2.message"
      ],
      "metadata": {
        "colab": {
          "base_uri": "https://localhost:8080/",
          "height": 36
        },
        "id": "OtyvCK16F88D",
        "outputId": "a71fa065-4b9b-4602-a82a-d5c979e44053"
      },
      "execution_count": 19,
      "outputs": [
        {
          "output_type": "execute_result",
          "data": {
            "text/plain": [
              "'A termination event occurred.'"
            ],
            "application/vnd.google.colaboratory.intrinsic+json": {
              "type": "string"
            }
          },
          "metadata": {},
          "execution_count": 19
        }
      ]
    },
    {
      "cell_type": "code",
      "source": [
        "t_sidewalk = results2.index[-1]\n",
        "t_sidewalk"
      ],
      "metadata": {
        "colab": {
          "base_uri": "https://localhost:8080/"
        },
        "id": "8bjzC_vxF-JO",
        "outputId": "8f611f6b-fe19-4e7b-d21b-bfbb2a418da2"
      },
      "execution_count": 20,
      "outputs": [
        {
          "output_type": "execute_result",
          "data": {
            "text/plain": [
              "20.635183673114156"
            ]
          },
          "metadata": {},
          "execution_count": 20
        }
      ]
    },
    {
      "cell_type": "code",
      "source": [
        "plot_position(results2)"
      ],
      "metadata": {
        "colab": {
          "base_uri": "https://localhost:8080/",
          "height": 309
        },
        "id": "u_nZN_qbF_IK",
        "outputId": "f1a4cbb1-2c4c-43bc-b98c-effcd06a3f10"
      },
      "execution_count": 21,
      "outputs": [
        {
          "output_type": "display_data",
          "data": {
            "text/plain": [
              "<Figure size 450x300 with 1 Axes>"
            ],
            "image/png": "[encoded data removed]"
          },
          "metadata": {}
        }
      ]
    },
    {
      "cell_type": "code",
      "source": [
        "plot_velocity(results2)"
      ],
      "metadata": {
        "colab": {
          "base_uri": "https://localhost:8080/",
          "height": 309
        },
        "id": "4qfpz6LlGAmc",
        "outputId": "b951ab26-0ac2-41e5-d6bb-7d873e7457c0"
      },
      "execution_count": 22,
      "outputs": [
        {
          "output_type": "display_data",
          "data": {
            "text/plain": [
              "<Figure size 450x300 with 1 Axes>"
            ],
            "image/png": "[encoded data removed]"
          },
          "metadata": {}
        }
      ]
    },
    {
      "cell_type": "code",
      "source": [
        "params_quarter = params.set(mass = 0.0057,diameter = 0.024,flight_time = 19.1, )"
      ],
      "metadata": {
        "id": "N6Fa_H5EGCXs"
      },
      "execution_count": 23,
      "outputs": []
    },
    {
      "cell_type": "code",
      "source": [
        "system3 = make_system(params_quarter)"
      ],
      "metadata": {
        "id": "skc2MpjPGDb4"
      },
      "execution_count": 24,
      "outputs": []
    },
    {
      "cell_type": "code",
      "source": [
        "results3, details3 = run_solve_ivp(system3, slope_func,\n",
        "                                   events=event_func)\n",
        "details3.message"
      ],
      "metadata": {
        "colab": {
          "base_uri": "https://localhost:8080/",
          "height": 36
        },
        "id": "NndorY04GEd0",
        "outputId": "10b418cc-31e7-4204-8ec4-554e5f65aea3"
      },
      "execution_count": 25,
      "outputs": [
        {
          "output_type": "execute_result",
          "data": {
            "text/plain": [
              "'A termination event occurred.'"
            ],
            "application/vnd.google.colaboratory.intrinsic+json": {
              "type": "string"
            }
          },
          "metadata": {},
          "execution_count": 25
        }
      ]
    },
    {
      "cell_type": "code",
      "source": [
        "t_sidewalk = results3.index[-1]\n",
        "t_sidewalk"
      ],
      "metadata": {
        "colab": {
          "base_uri": "https://localhost:8080/"
        },
        "id": "Ta9-ttQ3GFcL",
        "outputId": "629faecd-773d-4f20-f1e6-efa05eeb8f3f"
      },
      "execution_count": 26,
      "outputs": [
        {
          "output_type": "execute_result",
          "data": {
            "text/plain": [
              "20.635183673114057"
            ]
          },
          "metadata": {},
          "execution_count": 26
        }
      ]
    },
    {
      "cell_type": "code",
      "source": [
        "def error_func(guess, params):\n",
        "    print(guess)\n",
        "    params = params.set(v_term=guess)\n",
        "    system = make_system(params)\n",
        "    results, details = run_solve_ivp(system, slope_func,\n",
        "                                     events=event_func)\n",
        "    t_sidewalk = results.index[-1]\n",
        "    error = t_sidewalk - params.flight_time\n",
        "    return error"
      ],
      "metadata": {
        "id": "dHtxOZmUGHkS"
      },
      "execution_count": 27,
      "outputs": []
    },
    {
      "cell_type": "code",
      "source": [
        "v_guess1 = 18\n",
        "error_func(v_guess1, params_quarter)"
      ],
      "metadata": {
        "colab": {
          "base_uri": "https://localhost:8080/"
        },
        "id": "w-Q9N4pUGJRa",
        "outputId": "22eb1813-d4a7-4c90-ae71-313f566ada14"
      },
      "execution_count": 28,
      "outputs": [
        {
          "output_type": "stream",
          "name": "stdout",
          "text": [
            "18\n"
          ]
        },
        {
          "output_type": "execute_result",
          "data": {
            "text/plain": [
              "1.5351836731140551"
            ]
          },
          "metadata": {},
          "execution_count": 28
        }
      ]
    },
    {
      "cell_type": "code",
      "source": [
        "v_guess2 = 22\n",
        "error_func(v_guess2, params_quarter)"
      ],
      "metadata": {
        "colab": {
          "base_uri": "https://localhost:8080/"
        },
        "id": "XtLJWRAJGK6T",
        "outputId": "2b73ec14-2b05-4f59-d57f-9590bbe36cca"
      },
      "execution_count": 29,
      "outputs": [
        {
          "output_type": "stream",
          "name": "stdout",
          "text": [
            "22\n"
          ]
        },
        {
          "output_type": "execute_result",
          "data": {
            "text/plain": [
              "-2.1591256962719925"
            ]
          },
          "metadata": {},
          "execution_count": 29
        }
      ]
    },
    {
      "cell_type": "code",
      "source": [
        "res = root_scalar(error_func, params_quarter,\n",
        "                  bracket=[v_guess1, v_guess2])"
      ],
      "metadata": {
        "colab": {
          "base_uri": "https://localhost:8080/"
        },
        "id": "ifZAsTN1GMFm",
        "outputId": "859984c3-011d-4b5d-b091-70c9ddba08c8"
      },
      "execution_count": 30,
      "outputs": [
        {
          "output_type": "stream",
          "name": "stdout",
          "text": [
            "18\n",
            "18.0\n",
            "22.0\n",
            "19.66221452468036\n",
            "19.475274945870474\n",
            "19.45967387499707\n",
            "19.46064685869182\n"
          ]
        }
      ]
    },
    {
      "cell_type": "code",
      "source": [
        "v_term = res.root\n",
        "v_term"
      ],
      "metadata": {
        "colab": {
          "base_uri": "https://localhost:8080/"
        },
        "id": "7x0R8WvQGNdf",
        "outputId": "19b6bb04-1bfe-42c2-a5b0-1147d130d1fb"
      },
      "execution_count": 31,
      "outputs": [
        {
          "output_type": "execute_result",
          "data": {
            "text/plain": [
              "19.45967387499707"
            ]
          },
          "metadata": {},
          "execution_count": 31
        }
      ]
    },
    {
      "cell_type": "code",
      "source": [
        "system4 = make_system(params_quarter.set(v_term=res.root))\n",
        "system4.C_d"
      ],
      "metadata": {
        "colab": {
          "base_uri": "https://localhost:8080/"
        },
        "id": "s_nW64R6GO6Q",
        "outputId": "31fcfdbc-9046-4475-a9ab-f9c44391cc55"
      },
      "execution_count": 32,
      "outputs": [
        {
          "output_type": "execute_result",
          "data": {
            "text/plain": [
              "0.54345826868176"
            ]
          },
          "metadata": {},
          "execution_count": 32
        }
      ]
    },
    {
      "cell_type": "markdown",
      "source": [
        "**MODIFICATON**"
      ],
      "metadata": {
        "id": "bSZ7zilgISgz"
      }
    },
    {
      "cell_type": "markdown",
      "source": [
        "Certainly! Let's set up a simple simulation in Python to explore the motion of an object (let's say a ball) thrown upwards with an initial velocity greater than its terminal velocity. We'll use the scipy.integrate.solve_ivp function for numerical integration. The key aspects of the simulation will involve setting up the equations of motion considering gravity and air resistance."
      ],
      "metadata": {
        "id": "OdGpIodSWoZv"
      }
    },
    {
      "cell_type": "code",
      "source": [
        "import numpy as np\n",
        "from scipy.integrate import solve_ivp\n",
        "import matplotlib.pyplot as plt"
      ],
      "metadata": {
        "id": "gLvBnytwOO85"
      },
      "execution_count": 33,
      "outputs": []
    },
    {
      "cell_type": "code",
      "source": [
        "g = 9.81  # gravitational acceleration in m/s^2\n",
        "C_d = 0.47  # drag coefficient for a sphere\n",
        "rho = 1.225  # air density in kg/m^3\n",
        "r = 0.05  # radius of the ball in meters\n",
        "A = np.pi * r**2  # cross-sectional area in m^2\n",
        "mass = 0.1  # mass of the ball in kg\n",
        "\n",
        "v_terminal = np.sqrt((2 * mass * g) / (C_d * rho * A))  # terminal velocity\n",
        "v_init = 1.2 * v_terminal  # initial velocity upwards\n"
      ],
      "metadata": {
        "id": "16NHOOqwWufA"
      },
      "execution_count": 34,
      "outputs": []
    },
    {
      "cell_type": "code",
      "source": [
        "def model(t, y):\n",
        "    h, v = y\n",
        "    F_d = 0.5 * C_d * rho * A * v**2  # drag force\n",
        "    dvdt = -g - np.sign(v) * F_d / mass\n",
        "    dhdt = v\n",
        "    return [dhdt, dvdt]\n"
      ],
      "metadata": {
        "id": "gScXetOrWyVY"
      },
      "execution_count": 35,
      "outputs": []
    },
    {
      "cell_type": "code",
      "source": [
        "h0 = 0  # initial height\n",
        "y0 = [h0, v_init]  # initial condition vector\n",
        "t_span = [0, 30]  # time span of the simulation\n",
        "sol = solve_ivp(model, t_span, y0, max_step=0.1)\n"
      ],
      "metadata": {
        "id": "I9bqtgUFWzXY"
      },
      "execution_count": 36,
      "outputs": []
    },
    {
      "cell_type": "code",
      "source": [
        "plt.figure()\n",
        "plt.subplot(2, 1, 1)\n",
        "plt.plot(sol.t, sol.y[0])\n",
        "plt.title('Height vs. Time')\n",
        "plt.xlabel('Time (s)')\n",
        "plt.ylabel('Height (m)')\n",
        "\n",
        "plt.subplot(2, 1, 2)\n",
        "plt.plot(sol.t, sol.y[1])\n",
        "plt.title('Velocity vs. Time')\n",
        "plt.xlabel('Time (s)')\n",
        "plt.ylabel('Velocity (m/s)')\n",
        "plt.tight_layout()\n",
        "plt.show()\n"
      ],
      "metadata": {
        "colab": {
          "base_uri": "https://localhost:8080/",
          "height": 309
        },
        "id": "oNyg8a5oW3oE",
        "outputId": "53c91a38-2e29-4de3-9f0c-393ee97875c5"
      },
      "execution_count": 37,
      "outputs": [
        {
          "output_type": "display_data",
          "data": {
            "text/plain": [
              "<Figure size 450x300 with 2 Axes>"
            ],
            "image/png": "[encoded data removed]"
          },
          "metadata": {}
        }
      ]
    },
    {
      "cell_type": "markdown",
      "source": [
        "Outcome:\n",
        "The height vs. time graph shows the ball rising, reaching a peak, and then falling back down.\n",
        "The velocity vs. time graph shows the ball slowing down as it rises, then speeding up as it falls, potentially reaching a steady terminal velocity on the way down."
      ],
      "metadata": {
        "id": "_ayyGnSOW-6o"
      }
    }
  ]
}