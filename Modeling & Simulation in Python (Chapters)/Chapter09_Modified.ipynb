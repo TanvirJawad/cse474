{
  "nbformat": 4,
  "nbformat_minor": 0,
  "metadata": {
    "colab": {
      "provenance": []
    },
    "kernelspec": {
      "name": "python3",
      "display_name": "Python 3"
    },
    "language_info": {
      "name": "python"
    }
  },
  "cells": [
    {
      "cell_type": "markdown",
      "source": [
        "Md. Tanvir Jawad <br>ID: 21101221"
      ],
      "metadata": {
        "id": "wbMKrczpXWPB"
      }
    },
    {
      "cell_type": "code",
      "execution_count": 1,
      "metadata": {
        "colab": {
          "base_uri": "https://localhost:8080/"
        },
        "id": "E_TddxqVXRx6",
        "outputId": "2d54cfe2-5a2e-4992-9f1b-568267eebdd3"
      },
      "outputs": [
        {
          "output_type": "stream",
          "name": "stdout",
          "text": [
            "Collecting pint\n",
            "  Downloading Pint-0.22-py3-none-any.whl (294 kB)\n",
            "\u001b[2K     \u001b[90m━━━━━━━━━━━━━━━━━━━━━━━━━━━━━━━━━━━━━━━━\u001b[0m \u001b[32m294.0/294.0 kB\u001b[0m \u001b[31m4.1 MB/s\u001b[0m eta \u001b[36m0:00:00\u001b[0m\n",
            "\u001b[?25hRequirement already satisfied: typing-extensions in /usr/local/lib/python3.10/dist-packages (from pint) (4.5.0)\n",
            "Installing collected packages: pint\n",
            "Successfully installed pint-0.22\n"
          ]
        }
      ],
      "source": [
        "try:\n",
        "    import pint\n",
        "except ImportError:\n",
        "    !pip install pint"
      ]
    },
    {
      "cell_type": "code",
      "source": [
        "from os.path import basename, exists\n",
        "\n",
        "def download(url):\n",
        "    filename = basename(url)\n",
        "    if not exists(filename):\n",
        "        from urllib.request import urlretrieve\n",
        "        local, _ = urlretrieve(url, filename)\n",
        "        print('Downloaded ' + local)\n",
        "\n",
        "download('https://raw.githubusercontent.com/AllenDowney/' +\n",
        "         'ModSimPy/master/modsim.py')"
      ],
      "metadata": {
        "id": "khLxJRMjYO5K"
      },
      "execution_count": null,
      "outputs": []
    },
    {
      "cell_type": "code",
      "source": [
        "from modsim import *"
      ],
      "metadata": {
        "id": "PIkST_RzYQRj"
      },
      "execution_count": 3,
      "outputs": []
    },
    {
      "cell_type": "code",
      "source": [
        "download('https://raw.githubusercontent.com/AllenDowney/' +\n",
        "         'ModSimPy/master/data/World_population_estimates.html')"
      ],
      "metadata": {
        "colab": {
          "base_uri": "https://localhost:8080/"
        },
        "id": "xduMfo9kYSAA",
        "outputId": "bf1eff34-2606-43a6-eb59-aff81c2721e5"
      },
      "execution_count": 4,
      "outputs": [
        {
          "output_type": "stream",
          "name": "stdout",
          "text": [
            "Downloaded World_population_estimates.html\n"
          ]
        }
      ]
    },
    {
      "cell_type": "code",
      "source": [
        "from pandas import read_html\n",
        "\n",
        "filename = 'World_population_estimates.html'\n",
        "tables = read_html(filename, header=0, index_col=0, decimal='M')\n",
        "table2 = tables[2]\n",
        "table2.columns = ['census', 'prb', 'un', 'maddison',\n",
        "                  'hyde', 'tanton', 'biraben', 'mj',\n",
        "                  'thomlinson', 'durand', 'clark']"
      ],
      "metadata": {
        "id": "VT3QJ7P1YTg5"
      },
      "execution_count": 5,
      "outputs": []
    },
    {
      "cell_type": "code",
      "source": [
        "un = table2.un / 1e9\n",
        "census = table2.census / 1e9"
      ],
      "metadata": {
        "id": "A_xv93qMYVBB"
      },
      "execution_count": 6,
      "outputs": []
    },
    {
      "cell_type": "code",
      "source": [
        "download('https://github.com/AllenDowney/ModSimPy/raw/master/' +\n",
        "         'chap06.py')"
      ],
      "metadata": {
        "colab": {
          "base_uri": "https://localhost:8080/"
        },
        "id": "1fnzeinbYWyw",
        "outputId": "97f6850a-3a1a-4fd6-cff9-7a5a3f49cc77"
      },
      "execution_count": 7,
      "outputs": [
        {
          "output_type": "stream",
          "name": "stdout",
          "text": [
            "Downloaded chap06.py\n"
          ]
        }
      ]
    },
    {
      "cell_type": "code",
      "source": [
        "from chap06 import run_simulation\n",
        "\n",
        "def plot_estimates():\n",
        "    census.plot(style=':', label='US Census')\n",
        "    un.plot(style='--', label='UN DESA')\n",
        "    decorate(xlabel='Year',\n",
        "             ylabel='World population (billions)')"
      ],
      "metadata": {
        "id": "TezkQVsPYYUA"
      },
      "execution_count": 8,
      "outputs": []
    },
    {
      "cell_type": "code",
      "source": [
        "from sympy import symbols\n",
        "\n",
        "t = symbols('t')"
      ],
      "metadata": {
        "id": "rHK3E6luYYc5"
      },
      "execution_count": 9,
      "outputs": []
    },
    {
      "cell_type": "code",
      "source": [
        "from sympy import Function\n",
        "\n",
        "f = Function('f')"
      ],
      "metadata": {
        "id": "uiry-CGYYdzI"
      },
      "execution_count": 10,
      "outputs": []
    },
    {
      "cell_type": "code",
      "source": [
        "from sympy import diff\n",
        "\n",
        "dfdt = diff(f(t), t)"
      ],
      "metadata": {
        "id": "yBiR3NclYge4"
      },
      "execution_count": 12,
      "outputs": []
    },
    {
      "cell_type": "code",
      "source": [
        "from sympy import Eq\n",
        "\n",
        "alpha = symbols('alpha')\n",
        "eq1 = Eq(dfdt, alpha*f(t))"
      ],
      "metadata": {
        "id": "a1PcW_ywYnxw"
      },
      "execution_count": 14,
      "outputs": []
    },
    {
      "cell_type": "code",
      "source": [
        "from sympy import dsolve\n",
        "\n",
        "solution_eq = dsolve(eq1)\n",
        "solution_eq"
      ],
      "metadata": {
        "colab": {
          "base_uri": "https://localhost:8080/",
          "height": 38
        },
        "id": "_KhcslUYYsGp",
        "outputId": "1b65dc77-81c6-4b12-fc47-d21e6eba2619"
      },
      "execution_count": 15,
      "outputs": [
        {
          "output_type": "execute_result",
          "data": {
            "text/plain": [
              "Eq(f(t), C1*exp(alpha*t))"
            ],
            "text/latex": "$\\displaystyle f{\\left(t \\right)} = C_{1} e^{\\alpha t}$"
          },
          "metadata": {},
          "execution_count": 15
        }
      ]
    },
    {
      "cell_type": "code",
      "source": [
        "from sympy import solve\n"
      ],
      "metadata": {
        "id": "WBRiheKgYvJb"
      },
      "execution_count": 17,
      "outputs": []
    },
    {
      "cell_type": "code",
      "source": [
        "from sympy.printing.pycode import pycode"
      ],
      "metadata": {
        "id": "EPfmG_9gY2zq"
      },
      "execution_count": 18,
      "outputs": []
    },
    {
      "cell_type": "code",
      "source": [
        "t = symbols('t')\n",
        "p = Function('p')(t)\n",
        "alpha, beta, p_0 = symbols('alpha beta p_0')"
      ],
      "metadata": {
        "id": "JYzCuhKCZbos"
      },
      "execution_count": 21,
      "outputs": []
    },
    {
      "cell_type": "code",
      "source": [
        "eq = Eq(diff(p, t), alpha * p + beta * p**2)\n",
        "eq"
      ],
      "metadata": {
        "colab": {
          "base_uri": "https://localhost:8080/",
          "height": 52
        },
        "id": "Fc7KILvgZych",
        "outputId": "8047dbc9-d3d3-47ac-bfdd-d92d403fcfdd"
      },
      "execution_count": 27,
      "outputs": [
        {
          "output_type": "execute_result",
          "data": {
            "text/plain": [
              "Eq(Derivative(p(t), t), alpha*p(t) + beta*p(t)**2)"
            ],
            "text/latex": "$\\displaystyle \\frac{d}{d t} p{\\left(t \\right)} = \\alpha p{\\left(t \\right)} + \\beta p^{2}{\\left(t \\right)}$"
          },
          "metadata": {},
          "execution_count": 27
        }
      ]
    },
    {
      "cell_type": "code",
      "source": [
        "solution = dsolve(eq, p)\n",
        "solution"
      ],
      "metadata": {
        "colab": {
          "base_uri": "https://localhost:8080/",
          "height": 62
        },
        "id": "MgpCTEfwZ3-y",
        "outputId": "092c8609-ab08-4e40-ed7d-7a8c32e21842"
      },
      "execution_count": 26,
      "outputs": [
        {
          "output_type": "execute_result",
          "data": {
            "text/plain": [
              "Eq(p(t), alpha*exp(alpha*(C1 + t))/(beta*(1 - exp(alpha*(C1 + t)))))"
            ],
            "text/latex": "$\\displaystyle p{\\left(t \\right)} = \\frac{\\alpha e^{\\alpha \\left(C_{1} + t\\right)}}{\\beta \\left(1 - e^{\\alpha \\left(C_{1} + t\\right)}\\right)}$"
          },
          "metadata": {},
          "execution_count": 26
        }
      ]
    },
    {
      "cell_type": "code",
      "source": [
        "particular_solution = solve(solution.subs({p.subs(t, 0): p_0}), dict=True)\n",
        "particular_solution"
      ],
      "metadata": {
        "colab": {
          "base_uri": "https://localhost:8080/"
        },
        "id": "_a8ryv8QZ8pi",
        "outputId": "3d6ebffd-d27e-42cc-af7a-6e04aeaf4f89"
      },
      "execution_count": 28,
      "outputs": [
        {
          "output_type": "execute_result",
          "data": {
            "text/plain": [
              "[{beta: alpha*exp(alpha*(C1 + t))/((1 - exp(alpha*(C1 + t)))*p(t))}]"
            ]
          },
          "metadata": {},
          "execution_count": 28
        }
      ]
    },
    {
      "cell_type": "code",
      "source": [
        "particular_solution = particular_solution[0]\n",
        "\n",
        "particular_solution"
      ],
      "metadata": {
        "colab": {
          "base_uri": "https://localhost:8080/"
        },
        "id": "F7rNnZifaHYK",
        "outputId": "ffa64c04-d940-43ee-bc2d-21d71fa53370"
      },
      "execution_count": 29,
      "outputs": [
        {
          "output_type": "execute_result",
          "data": {
            "text/plain": [
              "{beta: alpha*exp(alpha*(C1 + t))/((1 - exp(alpha*(C1 + t)))*p(t))}"
            ]
          },
          "metadata": {},
          "execution_count": 29
        }
      ]
    }
  ]
}