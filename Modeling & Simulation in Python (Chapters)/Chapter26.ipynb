{
  "nbformat": 4,
  "nbformat_minor": 0,
  "metadata": {
    "colab": {
      "provenance": []
    },
    "kernelspec": {
      "name": "python3",
      "display_name": "Python 3"
    },
    "language_info": {
      "name": "python"
    }
  },
  "cells": [
    {
      "cell_type": "markdown",
      "source": [
        "Md. Tanvir Jawad<br>ID: 21101221"
      ],
      "metadata": {
        "id": "dm8fZ-dfoSIW"
      }
    },
    {
      "cell_type": "code",
      "execution_count": 1,
      "metadata": {
        "colab": {
          "base_uri": "https://localhost:8080/"
        },
        "id": "eTZoitVuoNc7",
        "outputId": "c137b896-18b1-4a22-fc16-53d609d6b6e2"
      },
      "outputs": [
        {
          "output_type": "execute_result",
          "data": {
            "text/plain": [
              "{T: I*g*m/(I + m*r**2), a: -g*m*r**2/(I + m*r**2), alpha: g*m*r/(I + m*r**2)}"
            ]
          },
          "metadata": {},
          "execution_count": 1
        }
      ],
      "source": [
        "from sympy import symbols, Eq, solve\n",
        "\n",
        "T, a, alpha, I, m, g, r = symbols('T a alpha I m g r')\n",
        "eq1 = Eq(a, -r * alpha)\n",
        "eq2 = Eq(T - m*g, m * a)\n",
        "eq3 = Eq(T * r, I * alpha)\n",
        "soln = solve([eq1, eq2, eq3], [T, a, alpha])\n",
        "soln"
      ]
    },
    {
      "cell_type": "code",
      "source": [
        "try:\n",
        "    import pint\n",
        "except ImportError:\n",
        "    !pip install pint"
      ],
      "metadata": {
        "colab": {
          "base_uri": "https://localhost:8080/"
        },
        "id": "gw1H-6HdorIV",
        "outputId": "085eda4c-f69e-4b15-e721-58e74d17ff96"
      },
      "execution_count": 2,
      "outputs": [
        {
          "output_type": "stream",
          "name": "stdout",
          "text": [
            "Collecting pint\n",
            "  Downloading Pint-0.22-py3-none-any.whl (294 kB)\n",
            "\u001b[?25l     \u001b[90m━━━━━━━━━━━━━━━━━━━━━━━━━━━━━━━━━━━━━━━━\u001b[0m \u001b[32m0.0/294.0 kB\u001b[0m \u001b[31m?\u001b[0m eta \u001b[36m-:--:--\u001b[0m\r\u001b[2K     \u001b[91m━━━━━━━━━━━\u001b[0m\u001b[90m╺\u001b[0m\u001b[90m━━━━━━━━━━━━━━━━━━━━━━━━━━━━\u001b[0m \u001b[32m81.9/294.0 kB\u001b[0m \u001b[31m2.5 MB/s\u001b[0m eta \u001b[36m0:00:01\u001b[0m\r\u001b[2K     \u001b[90m━━━━━━━━━━━━━━━━━━━━━━━━━━━━━━━━━━━━━━━━\u001b[0m \u001b[32m294.0/294.0 kB\u001b[0m \u001b[31m5.0 MB/s\u001b[0m eta \u001b[36m0:00:00\u001b[0m\n",
            "\u001b[?25hRequirement already satisfied: typing-extensions in /usr/local/lib/python3.10/dist-packages (from pint) (4.5.0)\n",
            "Installing collected packages: pint\n",
            "Successfully installed pint-0.22\n"
          ]
        }
      ]
    },
    {
      "cell_type": "code",
      "source": [
        "from os.path import basename, exists\n",
        "\n",
        "def download(url):\n",
        "    filename = basename(url)\n",
        "    if not exists(filename):\n",
        "        from urllib.request import urlretrieve\n",
        "        local, _ = urlretrieve(url, filename)\n",
        "        print('Downloaded ' + local)\n",
        "\n",
        "download('https://github.com/AllenDowney/ModSimPy/raw/master/modsim.py')"
      ],
      "metadata": {
        "colab": {
          "base_uri": "https://localhost:8080/"
        },
        "id": "McXVdFYIotjx",
        "outputId": "44ad82e4-17b4-4ff1-8edb-7a328ada3447"
      },
      "execution_count": 3,
      "outputs": [
        {
          "output_type": "stream",
          "name": "stdout",
          "text": [
            "Downloaded modsim.py\n"
          ]
        }
      ]
    },
    {
      "cell_type": "code",
      "source": [
        "from modsim import *"
      ],
      "metadata": {
        "id": "MUehyTPfou0f"
      },
      "execution_count": 4,
      "outputs": []
    },
    {
      "cell_type": "code",
      "source": [
        "from sympy import symbols, Eq, solve\n",
        "\n",
        "T, a, alpha, I, m, g, r = symbols('T a alpha I m g r')"
      ],
      "metadata": {
        "id": "Okx8lE3cowU-"
      },
      "execution_count": 5,
      "outputs": []
    },
    {
      "cell_type": "code",
      "source": [
        "eq1 = Eq(a, -r * alpha)\n",
        "eq1"
      ],
      "metadata": {
        "colab": {
          "base_uri": "https://localhost:8080/",
          "height": 38
        },
        "id": "D-ObvBIzoxjp",
        "outputId": "9096ddab-6f35-42d6-a878-3cd7ecafc3c9"
      },
      "execution_count": 6,
      "outputs": [
        {
          "output_type": "execute_result",
          "data": {
            "text/plain": [
              "Eq(a, -alpha*r)"
            ],
            "text/latex": "$\\displaystyle a = - \\alpha r$"
          },
          "metadata": {},
          "execution_count": 6
        }
      ]
    },
    {
      "cell_type": "code",
      "source": [
        "eq2 = Eq(T - m * g, m * a)\n",
        "eq2"
      ],
      "metadata": {
        "colab": {
          "base_uri": "https://localhost:8080/",
          "height": 38
        },
        "id": "7MNQycyKoy7u",
        "outputId": "0139577c-a37b-41ad-d5e9-a5656d7cccc6"
      },
      "execution_count": 7,
      "outputs": [
        {
          "output_type": "execute_result",
          "data": {
            "text/plain": [
              "Eq(T - g*m, a*m)"
            ],
            "text/latex": "$\\displaystyle T - g m = a m$"
          },
          "metadata": {},
          "execution_count": 7
        }
      ]
    },
    {
      "cell_type": "code",
      "source": [
        "eq3 = Eq(T * r, I * alpha)\n",
        "eq3"
      ],
      "metadata": {
        "colab": {
          "base_uri": "https://localhost:8080/",
          "height": 38
        },
        "id": "gGMpico0o0Kf",
        "outputId": "88c09e68-180e-4502-c606-e24fd25e5168"
      },
      "execution_count": 8,
      "outputs": [
        {
          "output_type": "execute_result",
          "data": {
            "text/plain": [
              "Eq(T*r, I*alpha)"
            ],
            "text/latex": "$\\displaystyle T r = I \\alpha$"
          },
          "metadata": {},
          "execution_count": 8
        }
      ]
    },
    {
      "cell_type": "code",
      "source": [
        "soln = solve([eq1, eq2, eq3], [T, a, alpha])"
      ],
      "metadata": {
        "id": "wOOW4bqBo1sO"
      },
      "execution_count": 9,
      "outputs": []
    },
    {
      "cell_type": "code",
      "source": [
        "soln[T]"
      ],
      "metadata": {
        "colab": {
          "base_uri": "https://localhost:8080/",
          "height": 53
        },
        "id": "Ycs7PC13o3bu",
        "outputId": "97bea3c6-fc4f-45e5-f735-c3f1dd3409ea"
      },
      "execution_count": 10,
      "outputs": [
        {
          "output_type": "execute_result",
          "data": {
            "text/plain": [
              "I*g*m/(I + m*r**2)"
            ],
            "text/latex": "$\\displaystyle \\frac{I g m}{I + m r^{2}}$"
          },
          "metadata": {},
          "execution_count": 10
        }
      ]
    },
    {
      "cell_type": "code",
      "source": [
        "soln[a]"
      ],
      "metadata": {
        "colab": {
          "base_uri": "https://localhost:8080/",
          "height": 55
        },
        "id": "X4slN6g7o4IH",
        "outputId": "f84aeb34-400e-4255-aee9-f8ebcbb6edbd"
      },
      "execution_count": 11,
      "outputs": [
        {
          "output_type": "execute_result",
          "data": {
            "text/plain": [
              "-g*m*r**2/(I + m*r**2)"
            ],
            "text/latex": "$\\displaystyle - \\frac{g m r^{2}}{I + m r^{2}}$"
          },
          "metadata": {},
          "execution_count": 11
        }
      ]
    },
    {
      "cell_type": "code",
      "source": [
        "soln[alpha]"
      ],
      "metadata": {
        "colab": {
          "base_uri": "https://localhost:8080/",
          "height": 49
        },
        "id": "shuqJ0KNo4_m",
        "outputId": "7cb9a499-cb5b-4264-be1f-ba0a3f97e5a2"
      },
      "execution_count": 12,
      "outputs": [
        {
          "output_type": "execute_result",
          "data": {
            "text/plain": [
              "g*m*r/(I + m*r**2)"
            ],
            "text/latex": "$\\displaystyle \\frac{g m r}{I + m r^{2}}$"
          },
          "metadata": {},
          "execution_count": 12
        }
      ]
    },
    {
      "cell_type": "code",
      "source": [
        "Rmin = 8e-3     # m\n",
        "Rmax = 16e-3    # m\n",
        "Rout = 35e-3    # m\n",
        "mass = 50e-3    # kg\n",
        "L = 1           # m\n",
        "g = 9.8         # m / s**2"
      ],
      "metadata": {
        "id": "XFfan6nCo6n1"
      },
      "execution_count": 13,
      "outputs": []
    },
    {
      "cell_type": "code",
      "source": [
        "1 / (Rmax)"
      ],
      "metadata": {
        "colab": {
          "base_uri": "https://localhost:8080/"
        },
        "id": "H6XbK06mo7kO",
        "outputId": "59fcf73f-96c6-4f0c-a029-b0237fb89c7b"
      },
      "execution_count": 14,
      "outputs": [
        {
          "output_type": "execute_result",
          "data": {
            "text/plain": [
              "62.5"
            ]
          },
          "metadata": {},
          "execution_count": 14
        }
      ]
    },
    {
      "cell_type": "code",
      "source": [
        "I = mass * Rout**2 / 2\n",
        "I"
      ],
      "metadata": {
        "colab": {
          "base_uri": "https://localhost:8080/"
        },
        "id": "GZAZpawgo8kD",
        "outputId": "e0db1c36-6ca9-495b-826a-cafaf8d90822"
      },
      "execution_count": 15,
      "outputs": [
        {
          "output_type": "execute_result",
          "data": {
            "text/plain": [
              "3.0625000000000006e-05"
            ]
          },
          "metadata": {},
          "execution_count": 15
        }
      ]
    },
    {
      "cell_type": "code",
      "source": [
        "k = (Rmax**2 - Rmin**2) / 2 / L\n",
        "k"
      ],
      "metadata": {
        "colab": {
          "base_uri": "https://localhost:8080/"
        },
        "id": "_PK-LHvdo-B-",
        "outputId": "6a52d4a5-7a39-4131-b4af-beb1e41d487a"
      },
      "execution_count": 16,
      "outputs": [
        {
          "output_type": "execute_result",
          "data": {
            "text/plain": [
              "9.6e-05"
            ]
          },
          "metadata": {},
          "execution_count": 16
        }
      ]
    },
    {
      "cell_type": "code",
      "source": [
        "init = State(theta=0, omega=0, y=L, v=0)"
      ],
      "metadata": {
        "id": "L7M5qId6o-2A"
      },
      "execution_count": 17,
      "outputs": []
    },
    {
      "cell_type": "code",
      "source": [
        "system = System(init=init, t_end=2)"
      ],
      "metadata": {
        "id": "ft1wQpnho_2H"
      },
      "execution_count": 18,
      "outputs": []
    },
    {
      "cell_type": "code",
      "source": [
        "from scipy.integrate import solve_ivp\n",
        "from sympy import symbols, Eq, solve, sqrt\n",
        "\n",
        "Rmin = 8e-3\n",
        "Rmax = 16e-3\n",
        "Rout = 35e-3\n",
        "mass = 50e-3\n",
        "L = 1\n",
        "g = 9.8\n",
        "\n",
        "I = mass * Rout**2 / 2\n",
        "\n",
        "k = (Rmax**2 - Rmin**2) / (2 * L)\n",
        "\n",
        "theta0, omega0, y0, v0 = 0, 0, L, 0\n",
        "\n",
        "t_end = 2"
      ],
      "metadata": {
        "id": "yReSI-DTpvJY"
      },
      "execution_count": 19,
      "outputs": []
    },
    {
      "cell_type": "code",
      "source": [
        "def slope_func(t, state):\n",
        "    theta, omega, y, v = state\n",
        "    r = sqrt(max(2*k*y + Rmin**2, 0))\n",
        "\n",
        "    T, a, alpha = symbols('T a alpha')\n",
        "    eq1 = Eq(a, -r * alpha)\n",
        "    eq2 = Eq(T - mass * g, mass * a)\n",
        "    eq3 = Eq(T * r, (I + mass * r**2) * alpha)\n",
        "    soln = solve([eq1, eq2, eq3], [T, a, alpha])\n",
        "\n",
        "    a_value = float(soln[a])\n",
        "    alpha_value = float(soln[alpha])\n",
        "\n",
        "    dtheta_dt = omega\n",
        "    domega_dt = alpha_value\n",
        "    dy_dt = -r * omega\n",
        "    dv_dt = a_value\n",
        "\n",
        "    return [dtheta_dt, domega_dt, dy_dt, dv_dt]"
      ],
      "metadata": {
        "id": "5QWxWTT0qAGd"
      },
      "execution_count": 23,
      "outputs": []
    },
    {
      "cell_type": "code",
      "source": [
        "def event_func(t, state):\n",
        "    _, _, y, _ = state\n",
        "    return y"
      ],
      "metadata": {
        "id": "N6wXSG5Np9VO"
      },
      "execution_count": 24,
      "outputs": []
    },
    {
      "cell_type": "code",
      "source": [
        "event_func.terminal = True\n",
        "\n",
        "# Running the simulation again with the corrected slope function\n",
        "sol = solve_ivp(slope_func, [0, t_end], [theta0, omega0, y0, v0], events=event_func)\n",
        "\n",
        "# Final state and time\n",
        "final_state = sol.y[:, -1]\n",
        "final_time = sol.t[-1]\n",
        "final_state, final_time"
      ],
      "metadata": {
        "colab": {
          "base_uri": "https://localhost:8080/"
        },
        "id": "IiOKhHO6qD_k",
        "outputId": "4bb228ab-cac7-4888-8090-28d00185c774"
      },
      "execution_count": 25,
      "outputs": [
        {
          "output_type": "execute_result",
          "data": {
            "text/plain": [
              "(array([ 8.34043931e+01,  1.46023855e+02,  5.55111512e-17, -1.96571281e+00]),\n",
              " 1.104209648472647)"
            ]
          },
          "metadata": {},
          "execution_count": 25
        }
      ]
    },
    {
      "cell_type": "code",
      "source": [
        "import matplotlib.pyplot as plt\n",
        "time = sol.t\n",
        "theta = sol.y[0]\n",
        "y = sol.y[2]\n",
        "v = sol.y[3]\n",
        "\n",
        "a = np.gradient(v, time)\n",
        "r = np.sqrt(2 * k * y + Rmin**2)\n",
        "plt.figure(figsize=(15, 12))\n",
        "\n",
        "# Theta vs Time\n",
        "plt.subplot(3, 2, 1)\n",
        "plt.plot(time, theta, color='C0', label='theta')\n",
        "plt.xlabel('Time (s)')\n",
        "plt.ylabel('Angle (rad)')\n",
        "plt.title('Theta vs Time')\n",
        "plt.legend()\n",
        "\n",
        "# Y vs Time\n",
        "plt.subplot(3, 2, 2)\n",
        "plt.plot(time, y, color='C1', label='y')\n",
        "plt.xlabel('Time (s)')\n",
        "plt.ylabel('Length (m)')\n",
        "plt.title('Y vs Time')\n",
        "plt.legend()\n",
        "\n",
        "# Velocity vs Time\n",
        "plt.subplot(3, 2, 3)\n",
        "plt.plot(time, v, color='C3', label='velocity')\n",
        "plt.xlabel('Time (s)')\n",
        "plt.ylabel('Velocity (m/s)')\n",
        "plt.title('Velocity vs Time')\n",
        "plt.legend()\n",
        "\n",
        "# Acceleration vs Time\n",
        "plt.subplot(3, 2, 4)\n",
        "plt.plot(time, a, color='C4', label='acceleration')\n",
        "plt.xlabel('Time (s)')\n",
        "plt.ylabel('Acceleration (m/s²)')\n",
        "plt.title('Acceleration vs Time')\n",
        "plt.legend()\n",
        "\n",
        "# Radius of Spooled Thread vs Time\n",
        "plt.subplot(3, 2, 5)\n",
        "plt.plot(time, r, label='radius')\n",
        "plt.xlabel('Time (s)')\n",
        "plt.ylabel('Radius of spooled thread (m)')\n",
        "plt.title('Radius vs Time')\n",
        "plt.legend()\n",
        "\n",
        "plt.tight_layout()\n",
        "plt.show()\n"
      ],
      "metadata": {
        "colab": {
          "base_uri": "https://localhost:8080/",
          "height": 594
        },
        "id": "DhXQjd16qbxo",
        "outputId": "eb1b2ad7-18a9-49d3-a972-381dd31f96bc"
      },
      "execution_count": 27,
      "outputs": [
        {
          "output_type": "display_data",
          "data": {
            "text/plain": [
              "<Figure size 1125x900 with 5 Axes>"
            ],
            "image/png": "[encoded data removed]"
          },
          "metadata": {}
        }
      ]
    }
  ]
}